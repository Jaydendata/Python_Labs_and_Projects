{
 "cells": [
  {
   "cell_type": "markdown",
   "metadata": {},
   "source": [
    "# Big Data - Pokemon Lab\n",
    "This lab project covers the material from Lectures 1-3. Please make yourself familiar with the lecture content before proceeding. We will be using the [**Pokemon with stats**](https://www.kaggle.com/abcsds/pokemon) dataset courtesy of Alberto Barradas on Kaggle.\n",
    "\n",
    "**<u>How to complete</u>**:\n",
    "- For each exercise, read the objective and hint, and then fill the cells containing **TODO**. These will usually be code cells requiring you to write Python code. If we ask you to explain something in plaintext, these may also be Markdown cells.\n",
    "- Do not modify any cells except for the ones containing **TODO**.\n",
    "- Do not add or delete any cells from the notebook. If you add any cells during your work, please remove them before submitting.\n",
    "- Allowed libraries are imported below. No additional libraries may be used for this lab project.\n",
    "- **Run all cells before submitting. You will only get marks for code that has been run, and has not produced any errors.**"
   ]
  },
  {
   "cell_type": "code",
   "execution_count": 22,
   "metadata": {},
   "outputs": [],
   "source": [
    "# Import statement\n",
    "\n",
    "import pandas as pd\n",
    "import numpy as np\n",
    "import matplotlib.pyplot as plt"
   ]
  },
  {
   "cell_type": "markdown",
   "metadata": {},
   "source": [
    "## 1: Dataset Import and Exploration"
   ]
  },
  {
   "cell_type": "code",
   "execution_count": 4,
   "metadata": {
    "scrolled": true
   },
   "outputs": [],
   "source": [
    "# Use pd.read_csv to read from pokemon csv file and return a dataframe\n",
    "\n",
    "df_pokemon = pd.read_csv('pokemon.csv')"
   ]
  },
  {
   "cell_type": "code",
   "execution_count": 7,
   "metadata": {},
   "outputs": [
    {
     "name": "stdout",
     "output_type": "stream",
     "text": [
      "There are 800 rows and 13 columns (exclude Index) in the dataframe. \n",
      "The top 4 rows are:\n"
     ]
    },
    {
     "data": {
      "text/html": [
       "<div>\n",
       "<style scoped>\n",
       "    .dataframe tbody tr th:only-of-type {\n",
       "        vertical-align: middle;\n",
       "    }\n",
       "\n",
       "    .dataframe tbody tr th {\n",
       "        vertical-align: top;\n",
       "    }\n",
       "\n",
       "    .dataframe thead th {\n",
       "        text-align: right;\n",
       "    }\n",
       "</style>\n",
       "<table border=\"1\" class=\"dataframe\">\n",
       "  <thead>\n",
       "    <tr style=\"text-align: right;\">\n",
       "      <th></th>\n",
       "      <th>#</th>\n",
       "      <th>Name</th>\n",
       "      <th>Type1</th>\n",
       "      <th>Type2</th>\n",
       "      <th>Total</th>\n",
       "      <th>HP</th>\n",
       "      <th>Attack</th>\n",
       "      <th>Defense</th>\n",
       "      <th>SpAtk</th>\n",
       "      <th>SpDef</th>\n",
       "      <th>Speed</th>\n",
       "      <th>Generation</th>\n",
       "      <th>Legendary</th>\n",
       "    </tr>\n",
       "  </thead>\n",
       "  <tbody>\n",
       "    <tr>\n",
       "      <th>0</th>\n",
       "      <td>1</td>\n",
       "      <td>Bulbasaur</td>\n",
       "      <td>Grass</td>\n",
       "      <td>Poison</td>\n",
       "      <td>318</td>\n",
       "      <td>45</td>\n",
       "      <td>49</td>\n",
       "      <td>49</td>\n",
       "      <td>65</td>\n",
       "      <td>65</td>\n",
       "      <td>45</td>\n",
       "      <td>1</td>\n",
       "      <td>NotLegendary</td>\n",
       "    </tr>\n",
       "    <tr>\n",
       "      <th>1</th>\n",
       "      <td>2</td>\n",
       "      <td>Ivysaur</td>\n",
       "      <td>Grass</td>\n",
       "      <td>Poison</td>\n",
       "      <td>405</td>\n",
       "      <td>60</td>\n",
       "      <td>62</td>\n",
       "      <td>63</td>\n",
       "      <td>80</td>\n",
       "      <td>80</td>\n",
       "      <td>60</td>\n",
       "      <td>1</td>\n",
       "      <td>NotLegendary</td>\n",
       "    </tr>\n",
       "    <tr>\n",
       "      <th>2</th>\n",
       "      <td>3</td>\n",
       "      <td>Venusaur</td>\n",
       "      <td>Grass</td>\n",
       "      <td>Poison</td>\n",
       "      <td>525</td>\n",
       "      <td>80</td>\n",
       "      <td>82</td>\n",
       "      <td>83</td>\n",
       "      <td>100</td>\n",
       "      <td>100</td>\n",
       "      <td>80</td>\n",
       "      <td>1</td>\n",
       "      <td>NotLegendary</td>\n",
       "    </tr>\n",
       "    <tr>\n",
       "      <th>3</th>\n",
       "      <td>3</td>\n",
       "      <td>VenusaurMega Venusaur</td>\n",
       "      <td>Grass</td>\n",
       "      <td>Poison</td>\n",
       "      <td>625</td>\n",
       "      <td>80</td>\n",
       "      <td>100</td>\n",
       "      <td>123</td>\n",
       "      <td>122</td>\n",
       "      <td>120</td>\n",
       "      <td>80</td>\n",
       "      <td>1</td>\n",
       "      <td>NotLegendary</td>\n",
       "    </tr>\n",
       "  </tbody>\n",
       "</table>\n",
       "</div>"
      ],
      "text/plain": [
       "   #                   Name  Type1   Type2  Total  HP  Attack  Defense  SpAtk  \\\n",
       "0  1              Bulbasaur  Grass  Poison    318  45      49       49     65   \n",
       "1  2                Ivysaur  Grass  Poison    405  60      62       63     80   \n",
       "2  3               Venusaur  Grass  Poison    525  80      82       83    100   \n",
       "3  3  VenusaurMega Venusaur  Grass  Poison    625  80     100      123    122   \n",
       "\n",
       "   SpDef  Speed  Generation     Legendary  \n",
       "0     65     45           1  NotLegendary  \n",
       "1     80     60           1  NotLegendary  \n",
       "2    100     80           1  NotLegendary  \n",
       "3    120     80           1  NotLegendary  "
      ]
     },
     "execution_count": 7,
     "metadata": {},
     "output_type": "execute_result"
    }
   ],
   "source": [
    "# 1. Use df.shape function produces a tuple consists of (row number, column number)\n",
    "# 2. Then use [0] or [1] to extract positioned value from the tuple\n",
    "# 3. Use df.head(4) to view top 4 lines\n",
    "\n",
    "print(f'There are {df_pokemon.shape[0]} rows and {df_pokemon.shape[1]} columns (exclude Index) in the dataframe. \\nThe top 4 rows are:')\n",
    "df_pokemon.head(4)"
   ]
  },
  {
   "cell_type": "code",
   "execution_count": 8,
   "metadata": {},
   "outputs": [
    {
     "name": "stdout",
     "output_type": "stream",
     "text": [
      "#             False\n",
      "Name          False\n",
      "Type1         False\n",
      "Type2          True\n",
      "Total         False\n",
      "HP            False\n",
      "Attack        False\n",
      "Defense       False\n",
      "SpAtk         False\n",
      "SpDef         False\n",
      "Speed         False\n",
      "Generation    False\n",
      "Legendary     False\n",
      "dtype: bool\n",
      "\n",
      "There are 414 rows left in the cleaned dataframe.\n"
     ]
    }
   ],
   "source": [
    "# 1. Use df.isna/isnull() + any() to return boolean results, any number larger than 0 will return True, means there is null value.\n",
    "# 2. Then use dropna() to delete rows with null values\n",
    "# 3. Repeat shape[0] to return the remaining total row number\n",
    "\n",
    "print(df_pokemon.isna().any())\n",
    "df_pokemon_co = df_pokemon.dropna()\n",
    "print(f'\\nThere are {df_pokemon_co.shape[0]} rows left in the cleaned dataframe.')\n"
   ]
  },
  {
   "cell_type": "markdown",
   "metadata": {},
   "source": [
    "##  2: Basic Statistics"
   ]
  },
  {
   "cell_type": "code",
   "execution_count": 13,
   "metadata": {},
   "outputs": [
    {
     "name": "stdout",
     "output_type": "stream",
     "text": [
      "The average HP for Legendaries is 96.42, where as the average HP for non-legendaries is 67.89,\n",
      "\n",
      "The legendary HP is 28.53 higher than Non-legendaries on average.\n"
     ]
    }
   ],
   "source": [
    "# 1.Extract relevant columns based on the given condition\n",
    "df_legendary = df_pokemon_co[df_pokemon_co['Legendary'] == 'Legendary']\n",
    "df_notlegendary = df_pokemon_co[df_pokemon_co['Legendary'] == 'NotLegendary']\n",
    "\n",
    "# 2.Use df.mean() to return the average value\n",
    "LegendaryMean = round(df_legendary['HP'].mean(),2)\n",
    "NotLegendaryMean = round(df_notlegendary['HP'].mean(),2)\n",
    "\n",
    "# 3.Use round( ,2) function to round up the differences between these values\n",
    "MeanDifference = round((LegendaryMean - NotLegendaryMean),2)\n",
    "\n",
    "# 4.Print the message\n",
    "print(f'The average HP for Legendaries is {LegendaryMean}, where as the average HP for non-legendaries is {NotLegendaryMean},\\n\\nThe legendary HP is {MeanDifference} higher than Non-legendaries on average.')"
   ]
  },
  {
   "cell_type": "code",
   "execution_count": 14,
   "metadata": {},
   "outputs": [
    {
     "name": "stdout",
     "output_type": "stream",
     "text": [
      "The variance of Attack data for pokemon Generation 1 is 1038.14, the standard deviation is 32.22.\n"
     ]
    }
   ],
   "source": [
    "# 1.Use df.var and df.std to calculate using extracted series of Attack for all Generation 1 rows\n",
    "AttackSeries = df_pokemon_co[df_pokemon_co['Generation'] == 1]['Attack']\n",
    "AttackVariance = round(AttackSeries.var(),2)\n",
    "AttackStd = round(AttackSeries.std(),2)\n",
    "\n",
    "# 2.Print an explaination of the rounded results\n",
    "print(f'The variance of Attack data for pokemon Generation 1 is {AttackVariance}, the standard deviation is {AttackStd}.')"
   ]
  },
  {
   "cell_type": "code",
   "execution_count": 15,
   "metadata": {
    "scrolled": false
   },
   "outputs": [
    {
     "name": "stdout",
     "output_type": "stream",
     "text": [
      "The standard error for the variable is 3.65.\n"
     ]
    }
   ],
   "source": [
    "# Use sem() to calculate the standard error for the same variable\n",
    "AttackStdError = round(AttackSeries.sem(),2)\n",
    "print(f'The standard error for the variable is {AttackStdError}.')"
   ]
  },
  {
   "cell_type": "markdown",
   "metadata": {},
   "source": [
    "     Difference between Standard Error of the Mean (SEM) and Standard Deviation (SD)\n",
    "Under conditions where central limit theorem applies, SEM represents the SD of sample means from *n* samples taken from the a population. When sample number *n* is sufficiently large, the theorem states that the mean of the the sample means is the population mean, and the SD of sample means (SEM) equals to the SD of population divided by the squared root of the sample size *n*. Therefore, the SD of population will always be larger than SEM of the samples unless the sample size *n* is 1. When the population SD is unknown, it is possible to produce *z* scores based on sampling information, or vice versa. \n"
   ]
  },
  {
   "cell_type": "markdown",
   "metadata": {},
   "source": [
    "##  3: Visualisation "
   ]
  },
  {
   "cell_type": "code",
   "execution_count": 23,
   "metadata": {
    "scrolled": true
   },
   "outputs": [
    {
     "data": {
      "text/plain": [
       "\"\\nAlternatively, can use:\\n\\ndf2.plot.box()\\nplt.title('Type 1 & Total Numbers')\\n\""
      ]
     },
     "execution_count": 23,
     "metadata": {},
     "output_type": "execute_result"
    },
    {
     "data": {
      "image/png": "[encoded data removed]",
      "text/plain": [
       "<Figure size 432x288 with 1 Axes>"
      ]
     },
     "metadata": {
      "needs_background": "light"
     },
     "output_type": "display_data"
    }
   ],
   "source": [
    "# 1.Filter out the conditioned rows into a new dataframe\n",
    "df_pokemon_co1 = df_pokemon_co[\n",
    "                                (df_pokemon_co['Type1'] == 'Grass')\n",
    "                                | (df_pokemon_co['Type1'] == 'Fire')\n",
    "                                | (df_pokemon_co['Type1'] == 'Normal')\n",
    "                                | (df_pokemon_co['Type1'] == 'Water')\n",
    "                                | (df_pokemon_co['Type1'] == 'Flying')\n",
    "                                ]\n",
    "# 2.Group the rows by Type1 values and count the total entries\n",
    "df2 = pd.DataFrame(df_pokemon_co1.groupby('Type1').size(), columns= ['Total'])\n",
    "\n",
    "# 3.Plot the dataframe using matplotlib boxplot\n",
    "plt.boxplot(df2)\n",
    "plt.title('Type 1 & Total Numbers')\n",
    "plt.xlabel('Total')\n",
    "\n",
    "\"\"\"\n",
    "Alternatively, can use:\n",
    "\n",
    "df2.plot.box()\n",
    "plt.title('Type 1 & Total Numbers')\n",
    "\"\"\""
   ]
  },
  {
   "cell_type": "code",
   "execution_count": 28,
   "metadata": {},
   "outputs": [
    {
     "data": {
      "image/png": "[encoded data removed]",
      "text/plain": [
       "<Figure size 432x288 with 1 Axes>"
      ]
     },
     "metadata": {
      "needs_background": "light"
     },
     "output_type": "display_data"
    }
   ],
   "source": [
    "# 1. Use matplotlib to create scatter graphs based on categories in 'Legendary' with different colors\n",
    "plt.scatter(df_notlegendary['Attack'], df_notlegendary['Defense'], color = 'cornflowerblue', s = 20)\n",
    "plt.scatter(df_legendary['Attack'], df_legendary['Defense'], color = 'lightcoral', s = 20)\n",
    "\n",
    "# 2. Define the graph title, axis names and legend, add grid\n",
    "plt.title('Attack & Defense between Legendary & Non-legendary')\n",
    "plt.legend(['Not Legendary', 'Legendary'])\n",
    "plt.xlabel('Attack')\n",
    "plt.ylabel('Defense')\n",
    "plt.grid(True)\n",
    "\n",
    "# 3. Show the graph\n",
    "plt.show()"
   ]
  }
 ],
 "metadata": {
  "kernelspec": {
   "display_name": "Python 3.10.5 64-bit",
   "language": "python",
   "name": "python3"
  },
  "language_info": {
   "codemirror_mode": {
    "name": "ipython",
    "version": 3
   },
   "file_extension": ".py",
   "mimetype": "text/x-python",
   "name": "python",
   "nbconvert_exporter": "python",
   "pygments_lexer": "ipython3",
   "version": "3.10.5"
  },
  "vscode": {
   "interpreter": {
    "hash": "fb4569285eef3a3450cb62085a5b1e0da4bce0af555edc33dcf29baf3acc1368"
   }
  }
 },
 "nbformat": 4,
 "nbformat_minor": 4
}
