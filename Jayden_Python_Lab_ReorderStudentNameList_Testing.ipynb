{
 "cells": [
  {
   "cell_type": "markdown",
   "metadata": {},
   "source": [
    "## Task:\n",
    "\n",
    "A sample of the input text file is:\n",
    "\n",
    "Ellen,91.7\\\n",
    "Manuel,61\\\n",
    "James,72.1\\\n",
    "Amber,80\\\n",
    "Conrad,45\\\n",
    "Jean,85.3\\\n",
    "Michael,71.5\\\n",
    "Regina,78.9\n",
    "\n",
    "*Write in Python to produce：*\n",
    "\n",
    "1. A sample of the output text file corresponding to the above is:\n",
    "\n",
    "Ellen scored 91.7\\\n",
    "Manuel scored 61\\\n",
    "James scored 72.1\\\n",
    "Amber scored 80\\\n",
    "Conrad scored 45\\\n",
    "Jean scored 85.3\\\n",
    "Michael scored 71.5\\\n",
    "Regina scored 78.9\\\n",
    "\n",
    "2. A sample run of the program would produce the following output on the screen:\n",
    "\n",
    "Reading information from: ResultsData.csv\\\n",
    "8 records output to: OutputInformation.txt\n"
   ]
  },
  {
   "cell_type": "code",
   "execution_count": 1,
   "metadata": {},
   "outputs": [],
   "source": [
    "NumberOfStudents = 0\n",
    "InputFileName = \"ResultsData.csv\"\n",
    "OutputFileName = \"OutputInformation.txt\"\n",
    "\n",
    "import pandas as pd"
   ]
  },
  {
   "cell_type": "code",
   "execution_count": 41,
   "metadata": {},
   "outputs": [
    {
     "data": {
      "text/plain": [
       "8"
      ]
     },
     "execution_count": 41,
     "metadata": {},
     "output_type": "execute_result"
    }
   ],
   "source": [
    "import pandas as pd\n",
    "dfExcel = pd.read_csv(InputFileName, names= ['student','score'])\n",
    "Names = []\n",
    "StudentNumber = 0\n",
    "for name in dfExcel['student']:\n",
    "    Names.append(name.strip())\n",
    "    StudentNumber += 1\n",
    "\n",
    "StudentNumber"
   ]
  },
  {
   "cell_type": "code",
   "execution_count": 39,
   "metadata": {},
   "outputs": [
    {
     "data": {
      "text/plain": [
       "[91.7, 61.0, 72.1, 80.0, 45.0, 85.3, 71.5, 78.9]"
      ]
     },
     "execution_count": 39,
     "metadata": {},
     "output_type": "execute_result"
    }
   ],
   "source": [
    "    Scores = []\n",
    "    for score in dfExcel['score']:\n",
    "        Scores.append(float(score))\n",
    "    Scores"
   ]
  },
  {
   "cell_type": "code",
   "execution_count": 23,
   "metadata": {},
   "outputs": [],
   "source": [
    "dfExcel = pd.read_csv(InputFileName, names= ['student','score'])\n",
    "nameList = [list(dfExcel['student'])]\n",
    "scoreList = (list(dfExcel['score']))\n",
    "\n"
   ]
  },
  {
   "cell_type": "code",
   "execution_count": 24,
   "metadata": {},
   "outputs": [
    {
     "data": {
      "text/plain": [
       "['Ellen', 'Manuel', 'James', 'Amber', 'Conrad', 'Jean', 'Michael', 'Regina']"
      ]
     },
     "execution_count": 24,
     "metadata": {},
     "output_type": "execute_result"
    }
   ],
   "source": [
    "nameList"
   ]
  },
  {
   "cell_type": "code",
   "execution_count": 25,
   "metadata": {},
   "outputs": [
    {
     "data": {
      "text/plain": [
       "[91.7, 61.0, 72.1, 80.0, 45.0, 85.3, 71.5, 78.9]"
      ]
     },
     "execution_count": 25,
     "metadata": {},
     "output_type": "execute_result"
    }
   ],
   "source": [
    "scoreList"
   ]
  },
  {
   "cell_type": "code",
   "execution_count": 26,
   "metadata": {},
   "outputs": [
    {
     "data": {
      "text/plain": [
       "['Ellen scored 91.7',\n",
       " 'Manuel scored 61.0',\n",
       " 'James scored 72.1',\n",
       " 'Amber scored 80.0',\n",
       " 'Conrad scored 45.0',\n",
       " 'Jean scored 85.3',\n",
       " 'Michael scored 71.5',\n",
       " 'Regina scored 78.9']"
      ]
     },
     "execution_count": 26,
     "metadata": {},
     "output_type": "execute_result"
    }
   ],
   "source": [
    "fullList = []\n",
    "for i in range (len(nameList)):\n",
    "    fullList.append(f'{nameList[i]} scored {scoreList[i]}')\n",
    "fullList"
   ]
  },
  {
   "cell_type": "code",
   "execution_count": 32,
   "metadata": {},
   "outputs": [
    {
     "name": "stdout",
     "output_type": "stream",
     "text": [
      "Ellen scored 91.7\n",
      "Manuel scored 61.0\n",
      "James scored 72.1\n",
      "Amber scored 80.0\n",
      "Conrad scored 45.0\n",
      "Jean scored 85.3\n",
      "Michael scored 71.5\n",
      "Regina scored 78.9\n",
      "\n"
     ]
    }
   ],
   "source": [
    "with open('./test.txt','w') as f:\n",
    "    for names in fullList:\n",
    "        f.write(names + '\\n')\n",
    "with open('./test.txt','r') as f:\n",
    "    print(f.read())\n",
    "f.close()"
   ]
  },
  {
   "cell_type": "code",
   "execution_count": 9,
   "metadata": {},
   "outputs": [],
   "source": [
    "NumberOfStudents = 0\n",
    "InputFileName = \"ResultsData.csv\"\n",
    "OutputFileName = \"OutputInformation.txt\"\n",
    "\n",
    "import pandas as pd\n",
    "dfExcel = pd.read_csv(InputFileName, names= ['student','score'])\n",
    "\n",
    "Names = []\n",
    "Scores = []\n",
    "\n",
    "# Append them to the appropriate Lists\n",
    "for name in dfExcel['student']:\n",
    "    Names.append(name.strip())\n",
    "# Increase the number of students\n",
    "    NumberOfStudents += 1\n",
    "for score in dfExcel['score']:\n",
    "    Scores.append(float(score))"
   ]
  },
  {
   "cell_type": "code",
   "execution_count": 10,
   "metadata": {},
   "outputs": [
    {
     "data": {
      "text/plain": [
       "8"
      ]
     },
     "execution_count": 10,
     "metadata": {},
     "output_type": "execute_result"
    }
   ],
   "source": [
    "NumberOfStudents"
   ]
  },
  {
   "cell_type": "code",
   "execution_count": 47,
   "metadata": {},
   "outputs": [
    {
     "data": {
      "text/plain": [
       "['Ellen', 'Manuel', 'James', 'Amber', 'Conrad', 'Jean', 'Michael', 'Regina']"
      ]
     },
     "execution_count": 47,
     "metadata": {},
     "output_type": "execute_result"
    }
   ],
   "source": [
    "Names"
   ]
  },
  {
   "cell_type": "code",
   "execution_count": 48,
   "metadata": {},
   "outputs": [
    {
     "data": {
      "text/plain": [
       "[91.7, 61.0, 72.1, 80.0, 45.0, 85.3, 71.5, 78.9]"
      ]
     },
     "execution_count": 48,
     "metadata": {},
     "output_type": "execute_result"
    }
   ],
   "source": [
    "Scores"
   ]
  },
  {
   "cell_type": "code",
   "execution_count": 50,
   "metadata": {},
   "outputs": [
    {
     "data": {
      "text/plain": [
       "['Ellen scored 91.7',\n",
       " 'Manuel scored 61.0',\n",
       " 'James scored 72.1',\n",
       " 'Amber scored 80.0',\n",
       " 'Conrad scored 45.0',\n",
       " 'Jean scored 85.3',\n",
       " 'Michael scored 71.5',\n",
       " 'Regina scored 78.9']"
      ]
     },
     "execution_count": 50,
     "metadata": {},
     "output_type": "execute_result"
    }
   ],
   "source": [
    "fullList = []\n",
    "for i in range (len(Names)):\n",
    "    fullList.append(f'{Names[i]} scored {Scores[i]}')\n",
    "fullList"
   ]
  },
  {
   "cell_type": "code",
   "execution_count": 55,
   "metadata": {},
   "outputs": [],
   "source": [
    "with open(OutputFileName,'w') as OutputFile:\n",
    "    for names in fullList:\n",
    "        OutputFile.write(names + '\\n')"
   ]
  },
  {
   "cell_type": "code",
   "execution_count": 2,
   "metadata": {},
   "outputs": [],
   "source": [
    "# Global Variables\n",
    "NumberOfStudents = 0\n",
    "InputFileName = \"ResultsData.csv\"\n",
    "OutputFileName = \"OutputInformation.txt\""
   ]
  },
  {
   "cell_type": "code",
   "execution_count": 3,
   "metadata": {},
   "outputs": [
    {
     "name": "stdout",
     "output_type": "stream",
     "text": [
      "Reading information from:  ResultsData.csv\n",
      "8  records output to:  OutputInformation.txt\n"
     ]
    }
   ],
   "source": [
    "\n",
    "\n",
    "# Read through the file one line at a time. Each whole line goes into the variable Line\n",
    "def ProcessInformationFile():\n",
    "    # This subprogram/function will read the information from the input file: InputFileName\n",
    "\n",
    "    import pandas as pd\n",
    "    dfExcel = pd.read_csv(InputFileName, names= ['student','score'])\n",
    "\n",
    "    Names = []\n",
    "    Scores = []\n",
    "        \n",
    "    # Append them to the appropriate Lists\n",
    "    for name in dfExcel['student']:\n",
    "        Names.append(name.strip())\n",
    "    # Increase the number of students\n",
    "        global NumberOfStudents\n",
    "        NumberOfStudents += 1\n",
    "    for score in dfExcel['score']:\n",
    "        Scores.append(float(score))\n",
    "    # The input file is automatically closed.\n",
    "\n",
    "    # For every entry output \"Name scored Result\" such as \"Peter scored 86.4\"\n",
    "    fullList = []\n",
    "    for i in range (len(Names)):\n",
    "        fullList.append(f'{Names[i]} scored {Scores[i]}')\n",
    "\n",
    "    # Output the information in the Names and Scores Lists to the Output File\n",
    "    # Open the output file for writing to\n",
    "    with open(OutputFileName,'w') as OutputFile:\n",
    "        for names in fullList:\n",
    "            OutputFile.write(names + '\\n')\n",
    "\n",
    "# Main Program starts here\n",
    "print (\"Reading information from: \",  InputFileName)\n",
    "ProcessInformationFile()\n",
    "print (NumberOfStudents, \" records output to: \", OutputFileName)"
   ]
  },
  {
   "cell_type": "code",
   "execution_count": 4,
   "metadata": {},
   "outputs": [
    {
     "data": {
      "text/plain": [
       "8"
      ]
     },
     "execution_count": 4,
     "metadata": {},
     "output_type": "execute_result"
    }
   ],
   "source": [
    "NumberOfStudents"
   ]
  },
  {
   "cell_type": "code",
   "execution_count": 69,
   "metadata": {},
   "outputs": [
    {
     "name": "stdout",
     "output_type": "stream",
     "text": [
      "Reading information from:  ResultsData.csv\n",
      "8  records output to:  OutputInformation.txt\n"
     ]
    }
   ],
   "source": [
    "print (\"Reading information from: \",  InputFileName)\n",
    "ProcessInformationFile()\n",
    "print (NumberOfStudents, \" records output to: \", OutputFileName)"
   ]
  }
 ],
 "metadata": {
  "kernelspec": {
   "display_name": "Python 3.10.5 64-bit",
   "language": "python",
   "name": "python3"
  },
  "language_info": {
   "codemirror_mode": {
    "name": "ipython",
    "version": 3
   },
   "file_extension": ".py",
   "mimetype": "text/x-python",
   "name": "python",
   "nbconvert_exporter": "python",
   "pygments_lexer": "ipython3",
   "version": "3.10.5"
  },
  "orig_nbformat": 4,
  "vscode": {
   "interpreter": {
    "hash": "fb4569285eef3a3450cb62085a5b1e0da4bce0af555edc33dcf29baf3acc1368"
   }
  }
 },
 "nbformat": 4,
 "nbformat_minor": 2
}
