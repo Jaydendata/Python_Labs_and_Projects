{
 "cells": [
  {
   "cell_type": "markdown",
   "id": "understood-lingerie",
   "metadata": {},
   "source": [
    "# Big Data and Data Analytics - Huston Housing"
   ]
  },
  {
   "cell_type": "code",
   "execution_count": 173,
   "id": "coral-legislature",
   "metadata": {},
   "outputs": [],
   "source": [
    "import pandas as pd\n",
    "import numpy as np\n",
    "import matplotlib.pyplot as plt\n",
    "import statsmodels.formula.api as smf\n",
    "from sklearn.metrics import confusion_matrix\n",
    "from sklearn.metrics import ConfusionMatrixDisplay\n",
    "import math"
   ]
  },
  {
   "cell_type": "markdown",
   "id": "dense-torture",
   "metadata": {},
   "source": [
    "##  1: Dataset Import and Preparation"
   ]
  },
  {
   "cell_type": "markdown",
   "id": "annual-moore",
   "metadata": {},
   "source": [
    "### 1.1\n",
    "- Load the dataset `Housing.csv` into a pandas `DataFrame` named `df_housing`"
   ]
  },
  {
   "cell_type": "code",
   "execution_count": 174,
   "id": "turkish-living",
   "metadata": {},
   "outputs": [
    {
     "name": "stdout",
     "output_type": "stream",
     "text": [
      "ID         False\n",
      "CRIM       False\n",
      "ZN         False\n",
      "INDUS      False\n",
      "CHAS       False\n",
      "NOX        False\n",
      "RM         False\n",
      "AGE        False\n",
      "DIS        False\n",
      "RAD        False\n",
      "TAX        False\n",
      "PTRATIO    False\n",
      "LSTAT      False\n",
      "MEDV       False\n",
      "dtype: bool\n"
     ]
    },
    {
     "data": {
      "text/html": [
       "<div>\n",
       "<style scoped>\n",
       "    .dataframe tbody tr th:only-of-type {\n",
       "        vertical-align: middle;\n",
       "    }\n",
       "\n",
       "    .dataframe tbody tr th {\n",
       "        vertical-align: top;\n",
       "    }\n",
       "\n",
       "    .dataframe thead th {\n",
       "        text-align: right;\n",
       "    }\n",
       "</style>\n",
       "<table border=\"1\" class=\"dataframe\">\n",
       "  <thead>\n",
       "    <tr style=\"text-align: right;\">\n",
       "      <th></th>\n",
       "      <th>ID</th>\n",
       "      <th>CRIM</th>\n",
       "      <th>ZN</th>\n",
       "      <th>INDUS</th>\n",
       "      <th>CHAS</th>\n",
       "      <th>NOX</th>\n",
       "      <th>RM</th>\n",
       "      <th>AGE</th>\n",
       "      <th>DIS</th>\n",
       "      <th>RAD</th>\n",
       "      <th>TAX</th>\n",
       "      <th>PTRATIO</th>\n",
       "      <th>LSTAT</th>\n",
       "      <th>MEDV</th>\n",
       "    </tr>\n",
       "  </thead>\n",
       "  <tbody>\n",
       "    <tr>\n",
       "      <th>0</th>\n",
       "      <td>1</td>\n",
       "      <td>0.00632</td>\n",
       "      <td>18.0</td>\n",
       "      <td>2.31</td>\n",
       "      <td>0</td>\n",
       "      <td>0.538</td>\n",
       "      <td>6.575</td>\n",
       "      <td>65.2</td>\n",
       "      <td>4.0900</td>\n",
       "      <td>1</td>\n",
       "      <td>296</td>\n",
       "      <td>15.3</td>\n",
       "      <td>4.98</td>\n",
       "      <td>24.0</td>\n",
       "    </tr>\n",
       "    <tr>\n",
       "      <th>1</th>\n",
       "      <td>2</td>\n",
       "      <td>0.02731</td>\n",
       "      <td>0.0</td>\n",
       "      <td>7.07</td>\n",
       "      <td>0</td>\n",
       "      <td>0.469</td>\n",
       "      <td>6.421</td>\n",
       "      <td>78.9</td>\n",
       "      <td>4.9671</td>\n",
       "      <td>2</td>\n",
       "      <td>242</td>\n",
       "      <td>17.8</td>\n",
       "      <td>9.14</td>\n",
       "      <td>21.6</td>\n",
       "    </tr>\n",
       "    <tr>\n",
       "      <th>2</th>\n",
       "      <td>3</td>\n",
       "      <td>0.02729</td>\n",
       "      <td>0.0</td>\n",
       "      <td>7.07</td>\n",
       "      <td>0</td>\n",
       "      <td>0.469</td>\n",
       "      <td>7.185</td>\n",
       "      <td>61.1</td>\n",
       "      <td>4.9671</td>\n",
       "      <td>2</td>\n",
       "      <td>242</td>\n",
       "      <td>17.8</td>\n",
       "      <td>4.03</td>\n",
       "      <td>34.7</td>\n",
       "    </tr>\n",
       "    <tr>\n",
       "      <th>3</th>\n",
       "      <td>4</td>\n",
       "      <td>0.03237</td>\n",
       "      <td>0.0</td>\n",
       "      <td>2.18</td>\n",
       "      <td>0</td>\n",
       "      <td>0.458</td>\n",
       "      <td>6.998</td>\n",
       "      <td>45.8</td>\n",
       "      <td>6.0622</td>\n",
       "      <td>3</td>\n",
       "      <td>222</td>\n",
       "      <td>18.7</td>\n",
       "      <td>2.94</td>\n",
       "      <td>33.4</td>\n",
       "    </tr>\n",
       "    <tr>\n",
       "      <th>4</th>\n",
       "      <td>5</td>\n",
       "      <td>0.06905</td>\n",
       "      <td>0.0</td>\n",
       "      <td>2.18</td>\n",
       "      <td>0</td>\n",
       "      <td>0.458</td>\n",
       "      <td>7.147</td>\n",
       "      <td>54.2</td>\n",
       "      <td>6.0622</td>\n",
       "      <td>3</td>\n",
       "      <td>222</td>\n",
       "      <td>18.7</td>\n",
       "      <td>5.33</td>\n",
       "      <td>36.2</td>\n",
       "    </tr>\n",
       "  </tbody>\n",
       "</table>\n",
       "</div>"
      ],
      "text/plain": [
       "   ID     CRIM    ZN  INDUS  CHAS    NOX     RM   AGE     DIS  RAD  TAX  \\\n",
       "0   1  0.00632  18.0   2.31     0  0.538  6.575  65.2  4.0900    1  296   \n",
       "1   2  0.02731   0.0   7.07     0  0.469  6.421  78.9  4.9671    2  242   \n",
       "2   3  0.02729   0.0   7.07     0  0.469  7.185  61.1  4.9671    2  242   \n",
       "3   4  0.03237   0.0   2.18     0  0.458  6.998  45.8  6.0622    3  222   \n",
       "4   5  0.06905   0.0   2.18     0  0.458  7.147  54.2  6.0622    3  222   \n",
       "\n",
       "   PTRATIO  LSTAT  MEDV  \n",
       "0     15.3   4.98  24.0  \n",
       "1     17.8   9.14  21.6  \n",
       "2     17.8   4.03  34.7  \n",
       "3     18.7   2.94  33.4  \n",
       "4     18.7   5.33  36.2  "
      ]
     },
     "execution_count": 174,
     "metadata": {},
     "output_type": "execute_result"
    }
   ],
   "source": [
    "# Import data from the csv file\n",
    "\n",
    "df_housing = pd.read_csv('Housing.csv')\n",
    "print(df_housing.isna().any())\n",
    "\n",
    "# Seems there is no Null value, but just in case:\n",
    "df_movie = df_housing.dropna()\n",
    "df_movie.head()"
   ]
  },
  {
   "cell_type": "markdown",
   "id": "architectural-roads",
   "metadata": {},
   "source": [
    "## 2. Regression"
   ]
  },
  {
   "cell_type": "markdown",
   "id": "ranging-laptop",
   "metadata": {},
   "source": [
    "### 2.1\n",
    "- Perform a multiple linear regression that regresses `MEDV` on `CRIM` (per capita crime rate by town), `RM` (average number of rooms per dwelling), `NOX` (nitric oxides concentration; parts per 10 million), `DIS` (weighted distances to five Boston employment centres), and `AGE` (proportion of owner- occupied units built prior to 1940). Save the model as `res_1`.\n",
    "- `print` the results of the regression `res_1` to the console (including a regression table and reporting of F-values)."
   ]
  },
  {
   "cell_type": "code",
   "execution_count": 175,
   "id": "4bf772aa",
   "metadata": {},
   "outputs": [
    {
     "name": "stdout",
     "output_type": "stream",
     "text": [
      "                            OLS Regression Results                            \n",
      "==============================================================================\n",
      "Dep. Variable:                   MEDV   R-squared:                       0.592\n",
      "Model:                            OLS   Adj. R-squared:                  0.588\n",
      "Method:                 Least Squares   F-statistic:                     145.3\n",
      "Date:                Sun, 09 Oct 2022   Prob (F-statistic):           5.02e-95\n",
      "Time:                        22:45:48   Log-Likelihood:                -1613.2\n",
      "No. Observations:                 506   AIC:                             3238.\n",
      "Df Residuals:                     500   BIC:                             3264.\n",
      "Df Model:                           5                                         \n",
      "Covariance Type:            nonrobust                                         \n",
      "==============================================================================\n",
      "                 coef    std err          t      P>|t|      [0.025      0.975]\n",
      "------------------------------------------------------------------------------\n",
      "Intercept     -6.2273      4.015     -1.551      0.122     -14.115       1.660\n",
      "CRIM          -0.2081      0.034     -6.113      0.000      -0.275      -0.141\n",
      "RM             7.7353      0.395     19.562      0.000       6.958       8.512\n",
      "NOX          -18.0509      3.947     -4.573      0.000     -25.806     -10.296\n",
      "DIS           -1.1910      0.217     -5.495      0.000      -1.617      -0.765\n",
      "AGE           -0.0666      0.015     -4.400      0.000      -0.096      -0.037\n",
      "==============================================================================\n",
      "Omnibus:                      224.972   Durbin-Watson:                   0.772\n",
      "Prob(Omnibus):                  0.000   Jarque-Bera (JB):             1646.316\n",
      "Skew:                           1.781   Prob(JB):                         0.00\n",
      "Kurtosis:                      11.087   Cond. No.                     1.46e+03\n",
      "==============================================================================\n",
      "\n",
      "Notes:\n",
      "[1] Standard Errors assume that the covariance matrix of the errors is correctly specified.\n",
      "[2] The condition number is large, 1.46e+03. This might indicate that there are\n",
      "strong multicollinearity or other numerical problems.\n"
     ]
    }
   ],
   "source": [
    "# Fit the model using smf.ols\n",
    "\n",
    "res_1 = smf.ols(formula= 'MEDV ~ CRIM + RM + NOX + DIS + AGE', data= df_housing).fit()\n",
    "print(res_1.summary())"
   ]
  },
  {
   "cell_type": "markdown",
   "id": "informative-athletics",
   "metadata": {},
   "source": [
    "#### <span style=\"color:#E2C382;\">*Report:*</span>\n",
    "Adjusted R-squared reflects the fit of the model. The results indicate a 58.8% of changes in MEDV can be explained by the independent variables. Since the P-value following independent variables is all < 0.05, the relationships are considered statistically significant. At last, the formula might be written as: MEDV = -6.2273 - 0.2081 x CRIM + 7.7353 x RM - 18.0509 x NOX - 1.1910 x DIS - 0.0666 x AGE. This makes sense by showing that the value is positively linked to room numbers (RM), but negatively linked to crime rate (CRIM), pollutant levels (NOX), distance from employment centres (DIS), as well as the proportion of old dwelling (AGE)."
   ]
  },
  {
   "cell_type": "markdown",
   "id": "confidential-avenue",
   "metadata": {},
   "source": [
    "### 2.2\n",
    "- Add a new categorical column to `df_housing` called `NOXCAT`. This column categorizes the suburbs into towns with `LOW`, `MEDIUM`, and `HIGH` nitric oxides concentration (based on the variable `NOX`). The categorization should be based on quantiles of `NOX` as follows:\n",
    "    - LOW (NOX <= 30% quantile)\n",
    "    - MEDIUM (> 30% quantile; <= 70% quantile)\n",
    "    - HIGH (> 70% quantile).\n",
    "- Create a boxplot that shows `MEDV` for the different values of `NOXCAT` (`LOW`, `MEDIUM`, `HIGH`). Use appropriate titels for the plot and its axes. "
   ]
  },
  {
   "cell_type": "code",
   "execution_count": 176,
   "id": "monetary-weather",
   "metadata": {
    "scrolled": true
   },
   "outputs": [
    {
     "name": "stdout",
     "output_type": "stream",
     "text": [
      "[0.472 0.605]\n"
     ]
    },
    {
     "data": {
      "image/png": "[encoded data removed]",
      "text/plain": [
       "<Figure size 432x288 with 1 Axes>"
      ]
     },
     "metadata": {
      "needs_background": "light"
     },
     "output_type": "display_data"
    }
   ],
   "source": [
    "# Calculate Quartiles of 30% and 70% from series NOX\n",
    "\n",
    "quartiles = np.quantile(df_housing['NOX'],[0.3, 0.7])\n",
    "print(quartiles)\n",
    "\n",
    "# Create a new categorical column NOXCAT\n",
    "df_housing.loc[\n",
    "            (df_housing['NOX'] <= quartiles[0])\n",
    "            ,'NOXCAT'\n",
    "            ] = 'LOW'\n",
    "df_housing.loc[\n",
    "            ((df_housing['NOX'] >= quartiles[0])\n",
    "            & (df_housing['NOX'] <= quartiles[1]))\n",
    "            ,'NOXCAT'\n",
    "            ] = 'MEDIUM'\n",
    "df_housing.loc[\n",
    "            (df_housing['NOX'] > quartiles[1])\n",
    "            ,'NOXCAT'\n",
    "            ] = 'HIGH'\n",
    "\n",
    "# Creat a scatter plot after checking the new df with .head() and conditions to verify the new column             \n",
    "\n",
    "colors = {'LOW':'green', 'MEDIUM':'orange', 'HIGH':'red'}\n",
    "plt.scatter(df_housing['NOXCAT'], df_housing['MEDV'], c=df_housing['NOXCAT'].map(colors), s = 20)\n",
    "\n",
    "# Define the graph title, axis names and legend, add grid\n",
    "plt.title('Median value & Nitric Oxide Conentration Levels')\n",
    "plt.xlabel('Medin Value in $1000s')\n",
    "plt.ylabel('Nitric Oxide Concentration')\n",
    "plt.show()"
   ]
  },
  {
   "cell_type": "markdown",
   "id": "impressive-desert",
   "metadata": {},
   "source": [
    "### 2.3\n",
    "The newly created column `NOXCAT` in `df_housing` is a categorical column with three possible values (`LOW`, `MEDIUM`, and `HIGH`). \n",
    "- Create a set of dummy variables (for different values of `NOXCAT`).\n",
    "- Regress `MEDV` on the different `NOX` categories using the dummy variables. Choose the dummy variable coding in your regression such that the intercept reflects the `MEDV` value of suburbs in the `MEDIUM` category. Save the regression result as `res_2` and `print` the regression result to the console.\n",
    "- Report the regression results from `res_2` in your own words according to APA stype and interpret the coefficients."
   ]
  },
  {
   "cell_type": "code",
   "execution_count": 177,
   "id": "indoor-stand",
   "metadata": {
    "scrolled": false
   },
   "outputs": [
    {
     "name": "stdout",
     "output_type": "stream",
     "text": [
      "                            OLS Regression Results                            \n",
      "==============================================================================\n",
      "Dep. Variable:                   MEDV   R-squared:                       0.160\n",
      "Model:                            OLS   Adj. R-squared:                  0.157\n",
      "Method:                 Least Squares   F-statistic:                     48.05\n",
      "Date:                Sun, 09 Oct 2022   Prob (F-statistic):           7.98e-20\n",
      "Time:                        22:45:49   Log-Likelihood:                -1796.0\n",
      "No. Observations:                 506   AIC:                             3598.\n",
      "Df Residuals:                     503   BIC:                             3611.\n",
      "Df Model:                           2                                         \n",
      "Covariance Type:            nonrobust                                         \n",
      "=================================================================================\n",
      "                    coef    std err          t      P>|t|      [0.025      0.975]\n",
      "---------------------------------------------------------------------------------\n",
      "Intercept        16.8262      0.284     59.170      0.000      16.267      17.385\n",
      "NOXdmy_HIGH       0.4619      0.563      0.820      0.412      -0.644       1.568\n",
      "NOXdmy_MEDIUM     6.5434      0.506     12.942      0.000       5.550       7.537\n",
      "NOXdmy_LOW        9.8208      0.563     17.444      0.000       8.715      10.927\n",
      "==============================================================================\n",
      "Omnibus:                      178.557   Durbin-Watson:                   0.646\n",
      "Prob(Omnibus):                  0.000   Jarque-Bera (JB):              503.492\n",
      "Skew:                           1.737   Prob(JB):                    4.66e-110\n",
      "Kurtosis:                       6.437   Cond. No.                     1.83e+15\n",
      "==============================================================================\n",
      "\n",
      "Notes:\n",
      "[1] Standard Errors assume that the covariance matrix of the errors is correctly specified.\n",
      "[2] The smallest eigenvalue is 2.02e-28. This might indicate that there are\n",
      "strong multicollinearity problems or that the design matrix is singular.\n"
     ]
    }
   ],
   "source": [
    "# Create dummies on NOXCAT with names dmy_xxx\n",
    "\n",
    "df_housing_dmf = pd.get_dummies(df_housing, columns=['NOXCAT'], prefix=\"NOXdmy\")\n",
    "\n",
    "# Regress on y = DEDV with X = three different nox levels\n",
    "res_2 = smf.ols(formula= 'MEDV ~ NOXdmy_HIGH + NOXdmy_MEDIUM + NOXdmy_LOW', data= df_housing_dmf).fit()\n",
    "print(res_2.summary())"
   ]
  },
  {
   "cell_type": "markdown",
   "id": "atlantic-junior",
   "metadata": {},
   "source": [
    "#### <span style=\"color:#E2C382;\">*Report:*</span>\n",
    "Adjusted R-squared indicates limited changes in MEDV can be explained by the independent variables. Since the P-value following high nitric oxide level is above 0.05, only MEDV's relationship with Medium and Low levels is considered statistically significant. The formula might be written as: MEDV = 16.8262 + 6.5434 x NOXdmy_MEDIUM + 9.8208 x NOXdmy_LOW. This makes sense as the value will increase with lower nitric oxide (pollutant) levels. "
   ]
  },
  {
   "cell_type": "markdown",
   "id": "violent-slide",
   "metadata": {},
   "source": [
    "## 3. Classification"
   ]
  },
  {
   "cell_type": "markdown",
   "id": "bright-general",
   "metadata": {},
   "source": [
    "### 3.1\n",
    "- Create a new numerical column called `MEDVBIN` in `df_housing`. The column takes on the value `1` if `MEDV` is greater than the median of `MEDV`. Otherwise, it takes on the value `0`.\n",
    "- Perform a logistic regression that regresses the newly created column `MEDVBIN` on `CRIM`, `RM`, `NOX`, `DIS` and `AGE` in order to predict the probability that a house has a high `MEDV`. Save the regression results as `res_3` and `print` the results to the console.\n",
    "- Report the results of the logistic regression `res_3` in APA style, including reporting of AIC, and then interpret the coefficients in your own words."
   ]
  },
  {
   "cell_type": "code",
   "execution_count": 178,
   "id": "bb702af5",
   "metadata": {},
   "outputs": [
    {
     "name": "stdout",
     "output_type": "stream",
     "text": [
      "Optimization terminated successfully.\n",
      "         Current function value: 0.394887\n",
      "         Iterations 8\n",
      "                           Logit Regression Results                           \n",
      "==============================================================================\n",
      "Dep. Variable:                MEDVBIN   No. Observations:                  506\n",
      "Model:                          Logit   Df Residuals:                      500\n",
      "Method:                           MLE   Df Model:                            5\n",
      "Date:                Sun, 09 Oct 2022   Pseudo R-squ.:                  0.4302\n",
      "Time:                        22:45:49   Log-Likelihood:                -199.81\n",
      "converged:                       True   LL-Null:                       -350.70\n",
      "Covariance Type:            nonrobust   LLR p-value:                 4.174e-63\n",
      "==============================================================================\n",
      "                 coef    std err          z      P>|z|      [0.025      0.975]\n",
      "------------------------------------------------------------------------------\n",
      "Intercept    -10.1635      2.442     -4.162      0.000     -14.950      -5.378\n",
      "CRIM          -0.1627      0.046     -3.555      0.000      -0.252      -0.073\n",
      "RM             2.7538      0.337      8.166      0.000       2.093       3.415\n",
      "NOX           -3.3887      2.177     -1.556      0.120      -7.656       0.879\n",
      "DIS           -0.4394      0.100     -4.406      0.000      -0.635      -0.244\n",
      "AGE           -0.0457      0.008     -5.790      0.000      -0.061      -0.030\n",
      "==============================================================================\n"
     ]
    }
   ],
   "source": [
    "# Calculate the median value of MEDV\n",
    "\n",
    "MEDV_median = df_housing ['MEDV'].median()\n",
    "MEDV_median\n",
    "\n",
    "# Create a new categorical column MEDVBIN\n",
    "df_housing.loc[\n",
    "            (df_housing['MEDV'] <= MEDV_median)\n",
    "            ,'MEDVBIN'\n",
    "            ] = '0'\n",
    "df_housing.loc[\n",
    "            (df_housing['MEDV'] > MEDV_median)\n",
    "            ,'MEDVBIN'\n",
    "            ] = '1'\n",
    "\n",
    "# Convert the new series to numeric\n",
    "df_housing['MEDVBIN'] = df_housing['MEDVBIN'].astype(int)\n",
    "\n",
    "\n",
    "# Fit to the logit model\n",
    " \n",
    "res_3 = smf.logit(formula= 'MEDVBIN ~ CRIM + RM + NOX + DIS + AGE', data= df_housing).fit()\n",
    "print(res_3.summary())          "
   ]
  },
  {
   "cell_type": "markdown",
   "id": "prescribed-spare",
   "metadata": {},
   "source": [
    "#### <span style=\"color:#E2C382;\">*Answer:*</span>\n",
    " Since the P-values are all smaller than 0.05 except NOX, we found that changes in CRIM, RM, DIS and AGE have a significant relationship with the probability of prices going above the MEDVBIN. log(p/1-p) [odd ration of higher than median] = -10.1635 -0.1627 x CRIM + 2.7538 x RM - 0.4394 x DIS -0.0457 x AGE. In other words, for one unit increase in the crime rate (CRIM), distance from employment centres (DIS), pollution (NOX) and % of aged dwellings (AGE), we can expect less probability of MEDV higher than its overall median value. Except for RM, an increase in room numbers will increase the probability of having a higher MEDV (MEDVBIN = 1).\n"
   ]
  },
  {
   "cell_type": "markdown",
   "id": "general-syndrome",
   "metadata": {},
   "source": [
    "### 3.2\n",
    "- Continue from the results `res_3` from the previous exercise by considering the first example listed in `df_housing` (index 0).\n",
    "- Use the model coefficient estimates and the corresponding values for the first example to calculate its logit and odds. `print` the logits and odds to the console.\n",
    "- Compare to the actual `MEDVBIN` of this house and describe in your own words how well the model performed in this case.\n"
   ]
  },
  {
   "cell_type": "code",
   "execution_count": 179,
   "id": "harmful-editor",
   "metadata": {},
   "outputs": [
    {
     "data": {
      "text/plain": [
       "0.9594926313421108"
      ]
     },
     "execution_count": 179,
     "metadata": {},
     "output_type": "execute_result"
    }
   ],
   "source": [
    "# Define a function that converts logit to probability\n",
    "\n",
    "def logit_to_prob (index_number):\n",
    "    logit = -10.1635 - 0.1627*df_housing.loc[index_number, 'CRIM'] + 2.7538*df_housing.loc[index_number, 'RM'] - 0.4394*df_housing.loc[index_number, 'DIS'] -0.0457*df_housing.loc[index_number, 'AGE']\n",
    "    odds = math.exp(logit)\n",
    "    prob = odds/(1+odds)\n",
    "    return(prob)\n",
    "\n",
    "logit_to_prob(0)"
   ]
  },
  {
   "cell_type": "markdown",
   "id": "ambient-germany",
   "metadata": {},
   "source": [
    "#### <span style=\"color:#E2C382;\">*Report:*</span>\n",
    "Result from the above defined function indicates that there is near 96% probability that the indexed probability will have a high median value (MEDVBIN = 1). As can be verified, the row does have a 1 in the MEDVBIN cell. The model performs well for this instance. "
   ]
  },
  {
   "cell_type": "markdown",
   "id": "continuous-reasoning",
   "metadata": {},
   "source": [
    "### 3.3\n",
    "Examine not only how the logistic regression model `res_3` did for the first example, but for the entire dataset.\n",
    "- Use `res_3` to predict the probabilities of `MEDVBIN` being `1`, and save them as a new column `MEDVBIN_PROB` in `df_housing`.\n",
    "- Generate the actual model predictions as a new column `MEDVBIN_PRED` in `df_housing` by setting them to `1` if the predicted probability `MEDVBIN_PROB` is greater than `0.5`, and to `0` otherwise. \n",
    "- Create a confusion matrix `conf_mat` for the results generated by `res_3` to tabulate the predictions `MEDVBIN_PRED` and actual values `MEDVBIN`. `print` `conf_mat` to the console.\n",
    "- Based on `conf_mat`, calculate sensitivity, specificity, and accuracy. `print` these values to the console as a grammatically correct sentence.\n",
    "- Interpret sensitivity, specificity, and accuracy."
   ]
  },
  {
   "cell_type": "code",
   "execution_count": 180,
   "id": "523f66b9",
   "metadata": {},
   "outputs": [
    {
     "name": "stdout",
     "output_type": "stream",
     "text": [
      "The confusion matrix's specificity is 0.8515625, sensitivity is 0.82, with an accuracy of 0.8359683794466403\n"
     ]
    },
    {
     "data": {
      "image/png": "[encoded data removed]",
      "text/plain": [
       "<Figure size 432x288 with 2 Axes>"
      ]
     },
     "metadata": {
      "needs_background": "light"
     },
     "output_type": "display_data"
    }
   ],
   "source": [
    "# Frist define the dependant and independent variables\n",
    "\n",
    "Xtest = df_housing[['CRIM', 'RM', 'NOX', 'DIS', 'AGE']]\n",
    "ytest = df_housing['MEDVBIN']\n",
    "  \n",
    "# Performing predictions on the test datdaset and added to the orginal df\n",
    "ypre = res_3.predict(Xtest)\n",
    "df_housing['MEDVBIN_PROB'] = list(ypre)\n",
    "\n",
    "# Create a new categorical column MEDVBIN_PRED based on MEDVBIN_PROB\n",
    "df_housing.loc[\n",
    "            (df_housing['MEDVBIN_PROB'] <= 0.5)\n",
    "            ,'MEDVBIN_PRED'\n",
    "            ] = '0'\n",
    "df_housing.loc[\n",
    "            (df_housing['MEDVBIN_PROB'] > 0.5)\n",
    "            ,'MEDVBIN_PRED'\n",
    "            ] = '1'\n",
    "\n",
    "df_housing['MEDVBIN_PRED'] = df_housing['MEDVBIN_PRED'].astype(int)\n",
    "conf_mat = confusion_matrix(df_housing['MEDVBIN'],df_housing['MEDVBIN_PRED'])\n",
    "conf_mat_display = ConfusionMatrixDisplay(confusion_matrix=conf_mat, display_labels=[False, True])\n",
    "conf_mat_display.plot()\n",
    "\n",
    "# Calculate sensitivity, specificity and accuracy from conf_mat\n",
    "total_conf = sum(sum(conf_mat))\n",
    "\n",
    "accuracy_conf = (conf_mat[0,0] + conf_mat [1,1])/total_conf\n",
    "specificity_conf = conf_mat[0,0] / (conf_mat[0,0] + conf_mat[0,1])\n",
    "sensitivity_conf = conf_mat[1,1] / (conf_mat[1,0] + conf_mat[1,1])\n",
    "\n",
    "print(f\"The confusion matrix's specificity is {specificity_conf}, sensitivity is {sensitivity_conf}, with an accuracy of {accuracy_conf}\")"
   ]
  },
  {
   "cell_type": "markdown",
   "id": "domestic-handbook",
   "metadata": {},
   "source": [
    "#### <span style=\"color:#E2C382;\">*Report:*</span>\n",
    "\n",
    "Accuracy means that overall, how often is the classifier correct in the predictions. Here, we see that near 83.6% percent are correct predictions, either TP or TN. Sensitivity means the true positive rate, here actually measures how often it predicts 1 when the result is actually 1 (above median value). We see that near 82% of the predictions are true 1. Lastly, Specificity here means the other way around, we see that near 85% true negatie rate, which means the model predicts 0 when it is actually 0. Overall, the model has near 83.6% accuracy in predicting whether the town will have a higher median value of owner-occupied homes."
   ]
  }
 ],
 "metadata": {
  "kernelspec": {
   "display_name": "Python 3.10.5 64-bit",
   "language": "python",
   "name": "python3"
  },
  "language_info": {
   "codemirror_mode": {
    "name": "ipython",
    "version": 3
   },
   "file_extension": ".py",
   "mimetype": "text/x-python",
   "name": "python",
   "nbconvert_exporter": "python",
   "pygments_lexer": "ipython3",
   "version": "3.10.5"
  },
  "vscode": {
   "interpreter": {
    "hash": "fb4569285eef3a3450cb62085a5b1e0da4bce0af555edc33dcf29baf3acc1368"
   }
  }
 },
 "nbformat": 4,
 "nbformat_minor": 5
}
