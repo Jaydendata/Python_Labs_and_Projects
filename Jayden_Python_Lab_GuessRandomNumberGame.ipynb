{
 "cells": [
  {
   "cell_type": "code",
   "execution_count": 1,
   "metadata": {},
   "outputs": [],
   "source": [
    "'''\n",
    "Guess Random Number Game\n",
    "'''\n",
    "## Initialisation:\n",
    "# Import modules needed for this game:\n",
    "import random\n",
    "import time"
   ]
  },
  {
   "cell_type": "code",
   "execution_count": 2,
   "metadata": {},
   "outputs": [],
   "source": [
    "# Set a random answer (full number between 0 and 10 )\n",
    "max_attempt_allowed = 3\n",
    "number_range_begin = 1\n",
    "number_range_end = 10"
   ]
  },
  {
   "cell_type": "code",
   "execution_count": 3,
   "metadata": {},
   "outputs": [
    {
     "name": "stdout",
     "output_type": "stream",
     "text": [
      "Welcome to the guessing game, please guess a full number between 1 and 10, you only have 3 attemps!\n"
     ]
    }
   ],
   "source": [
    "## Processing:\n",
    "# Show invitation message:\n",
    "print(\n",
    "    f\"Welcome to the guessing game, please guess a full number between {number_range_begin} and {number_range_end}, you only have {max_attempt_allowed} attemps!\"\n",
    "    )"
   ]
  },
  {
   "cell_type": "code",
   "execution_count": 4,
   "metadata": {},
   "outputs": [
    {
     "name": "stdout",
     "output_type": "stream",
     "text": [
      "\n",
      "What is your guessed full number?\n"
     ]
    }
   ],
   "source": [
    "# Explain and invite typing a guess:\n",
    "print(\n",
    "    \"\\nWhat is your guessed full number?\"\n",
    "    )\n",
    "time.sleep(1)      \n",
    "guess = int(input(\n",
    "    \"Please type your guessed number here: \"\n",
    "    ))"
   ]
  },
  {
   "cell_type": "code",
   "execution_count": 5,
   "metadata": {},
   "outputs": [],
   "source": [
    "# Define the correct answer with a random number:\n",
    "# correct_number = random.randint(number_range_begin,number_range_end)\n",
    "correct_number = random.randint(number_range_begin,number_range_end)\n",
    "attempt_count = 1"
   ]
  },
  {
   "cell_type": "code",
   "execution_count": 6,
   "metadata": {},
   "outputs": [],
   "source": [
    "## Decisions:\n",
    "# Use while loop to determine if the guess is right or wrong, show hints:\n",
    "while guess != correct_number and attempt_count < max_attempt_allowed:\n",
    "    if guess < correct_number:\n",
    "        attempt_count += 1\n",
    "        guess = int(input(\n",
    "            f\"That's low, attempt left: {max_attempt_allowed - attempt_count + 1}, try again: \"\n",
    "            ))\n",
    "    else:\n",
    "        attempt_count += 1\n",
    "        guess = int(input(\n",
    "            f\"That's high, attempt left: {max_attempt_allowed - attempt_count + 1}, try again: \"\n",
    "            ))"
   ]
  },
  {
   "cell_type": "code",
   "execution_count": 7,
   "metadata": {},
   "outputs": [
    {
     "name": "stdout",
     "output_type": "stream",
     "text": [
      "Unfortunately, you did not find the correct number after 3 attempts, you lost! The right answer is 4.\n"
     ]
    }
   ],
   "source": [
    "## Final output:\n",
    "if guess == correct_number and attempt_count <= max_attempt_allowed:\n",
    "    print(\n",
    "    f\"Congrats! the number is right: {correct_number}, you win with only {attempt_count} attempt(s)!\"\n",
    "    )\n",
    "else:\n",
    "    print(\n",
    "        f\"Unfortunately, you did not find the correct number after {max_attempt_allowed} attempts, you lost! The right answer is {correct_number}.\"\n",
    "    )"
   ]
  }
 ],
 "metadata": {
  "kernelspec": {
   "display_name": "Python 3.10.5 64-bit",
   "language": "python",
   "name": "python3"
  },
  "language_info": {
   "codemirror_mode": {
    "name": "ipython",
    "version": 3
   },
   "file_extension": ".py",
   "mimetype": "text/x-python",
   "name": "python",
   "nbconvert_exporter": "python",
   "pygments_lexer": "ipython3",
   "version": "3.10.5"
  },
  "orig_nbformat": 4,
  "vscode": {
   "interpreter": {
    "hash": "fb4569285eef3a3450cb62085a5b1e0da4bce0af555edc33dcf29baf3acc1368"
   }
  }
 },
 "nbformat": 4,
 "nbformat_minor": 2
}
