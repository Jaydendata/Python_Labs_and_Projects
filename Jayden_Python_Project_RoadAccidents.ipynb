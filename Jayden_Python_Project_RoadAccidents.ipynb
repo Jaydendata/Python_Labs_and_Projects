{
 "cells": [
  {
   "cell_type": "markdown",
   "metadata": {},
   "source": [
    "Introduction\n",
    "\n",
    "TBC\n",
    "\n",
    "\n",
    "Import statement"
   ]
  },
  {
   "cell_type": "code",
   "execution_count": 1,
   "metadata": {},
   "outputs": [],
   "source": [
    "import pandas as pd\n",
    "import matplotlib.pyplot as plt\n",
    "import seaborn as sns\n",
    "import plotly.express as px"
   ]
  },
  {
   "cell_type": "code",
   "execution_count": 2,
   "metadata": {},
   "outputs": [],
   "source": [
    "accidents_df = pd.read_csv('ny_accidents.csv')"
   ]
  },
  {
   "cell_type": "markdown",
   "metadata": {},
   "source": [
    "Preview the first rows"
   ]
  },
  {
   "cell_type": "code",
   "execution_count": 3,
   "metadata": {},
   "outputs": [
    {
     "data": {
      "text/html": [
       "<div>\n",
       "<style scoped>\n",
       "    .dataframe tbody tr th:only-of-type {\n",
       "        vertical-align: middle;\n",
       "    }\n",
       "\n",
       "    .dataframe tbody tr th {\n",
       "        vertical-align: top;\n",
       "    }\n",
       "\n",
       "    .dataframe thead th {\n",
       "        text-align: right;\n",
       "    }\n",
       "</style>\n",
       "<table border=\"1\" class=\"dataframe\">\n",
       "  <thead>\n",
       "    <tr style=\"text-align: right;\">\n",
       "      <th></th>\n",
       "      <th>Unnamed: 0</th>\n",
       "      <th>ID</th>\n",
       "      <th>Severity</th>\n",
       "      <th>Start_Time</th>\n",
       "      <th>End_Time</th>\n",
       "      <th>Start_Lat</th>\n",
       "      <th>Start_Lng</th>\n",
       "      <th>End_Lat</th>\n",
       "      <th>End_Lng</th>\n",
       "      <th>Distance.mi.</th>\n",
       "      <th>...</th>\n",
       "      <th>Roundabout</th>\n",
       "      <th>Station</th>\n",
       "      <th>Stop</th>\n",
       "      <th>Traffic_Calming</th>\n",
       "      <th>Traffic_Signal</th>\n",
       "      <th>Turning_Loop</th>\n",
       "      <th>Sunrise_Sunset</th>\n",
       "      <th>Civil_Twilight</th>\n",
       "      <th>Nautical_Twilight</th>\n",
       "      <th>Astronomical_Twilight</th>\n",
       "    </tr>\n",
       "  </thead>\n",
       "  <tbody>\n",
       "    <tr>\n",
       "      <th>0</th>\n",
       "      <td>237351</td>\n",
       "      <td>A-2953957</td>\n",
       "      <td>2</td>\n",
       "      <td>2020-12-03 20:52:00</td>\n",
       "      <td>2020-12-03 22:17:27</td>\n",
       "      <td>43.119443</td>\n",
       "      <td>-75.293198</td>\n",
       "      <td>43.120291</td>\n",
       "      <td>-75.293547</td>\n",
       "      <td>0.061</td>\n",
       "      <td>...</td>\n",
       "      <td>False</td>\n",
       "      <td>False</td>\n",
       "      <td>False</td>\n",
       "      <td>False</td>\n",
       "      <td>False</td>\n",
       "      <td>False</td>\n",
       "      <td>Night</td>\n",
       "      <td>Night</td>\n",
       "      <td>Night</td>\n",
       "      <td>Night</td>\n",
       "    </tr>\n",
       "    <tr>\n",
       "      <th>1</th>\n",
       "      <td>237362</td>\n",
       "      <td>A-2953968</td>\n",
       "      <td>2</td>\n",
       "      <td>2020-09-25 23:19:55</td>\n",
       "      <td>2020-09-25 23:41:46</td>\n",
       "      <td>40.834883</td>\n",
       "      <td>-73.866244</td>\n",
       "      <td>40.833773</td>\n",
       "      <td>-73.863254</td>\n",
       "      <td>0.174</td>\n",
       "      <td>...</td>\n",
       "      <td>False</td>\n",
       "      <td>False</td>\n",
       "      <td>False</td>\n",
       "      <td>False</td>\n",
       "      <td>False</td>\n",
       "      <td>False</td>\n",
       "      <td>Night</td>\n",
       "      <td>Night</td>\n",
       "      <td>Night</td>\n",
       "      <td>Night</td>\n",
       "    </tr>\n",
       "    <tr>\n",
       "      <th>2</th>\n",
       "      <td>237365</td>\n",
       "      <td>A-2953971</td>\n",
       "      <td>2</td>\n",
       "      <td>2020-10-15 12:17:30</td>\n",
       "      <td>2020-10-16 03:44:00</td>\n",
       "      <td>40.802117</td>\n",
       "      <td>-73.916498</td>\n",
       "      <td>40.804907</td>\n",
       "      <td>-73.911238</td>\n",
       "      <td>0.336</td>\n",
       "      <td>...</td>\n",
       "      <td>False</td>\n",
       "      <td>False</td>\n",
       "      <td>True</td>\n",
       "      <td>False</td>\n",
       "      <td>False</td>\n",
       "      <td>False</td>\n",
       "      <td>Day</td>\n",
       "      <td>Day</td>\n",
       "      <td>Day</td>\n",
       "      <td>Day</td>\n",
       "    </tr>\n",
       "    <tr>\n",
       "      <th>3</th>\n",
       "      <td>237402</td>\n",
       "      <td>A-2954008</td>\n",
       "      <td>2</td>\n",
       "      <td>2020-10-03 02:58:56</td>\n",
       "      <td>2020-10-03 04:40:33</td>\n",
       "      <td>43.073669</td>\n",
       "      <td>-78.990615</td>\n",
       "      <td>43.075229</td>\n",
       "      <td>-78.990615</td>\n",
       "      <td>0.108</td>\n",
       "      <td>...</td>\n",
       "      <td>False</td>\n",
       "      <td>False</td>\n",
       "      <td>False</td>\n",
       "      <td>False</td>\n",
       "      <td>False</td>\n",
       "      <td>False</td>\n",
       "      <td>Night</td>\n",
       "      <td>Night</td>\n",
       "      <td>Night</td>\n",
       "      <td>Night</td>\n",
       "    </tr>\n",
       "    <tr>\n",
       "      <th>4</th>\n",
       "      <td>237423</td>\n",
       "      <td>A-2954030</td>\n",
       "      <td>2</td>\n",
       "      <td>2020-09-17 13:19:55</td>\n",
       "      <td>2020-09-17 15:24:11</td>\n",
       "      <td>41.308840</td>\n",
       "      <td>-74.025331</td>\n",
       "      <td>41.307460</td>\n",
       "      <td>-74.027961</td>\n",
       "      <td>0.167</td>\n",
       "      <td>...</td>\n",
       "      <td>False</td>\n",
       "      <td>False</td>\n",
       "      <td>False</td>\n",
       "      <td>False</td>\n",
       "      <td>False</td>\n",
       "      <td>False</td>\n",
       "      <td>Day</td>\n",
       "      <td>Day</td>\n",
       "      <td>Day</td>\n",
       "      <td>Day</td>\n",
       "    </tr>\n",
       "  </tbody>\n",
       "</table>\n",
       "<p>5 rows × 48 columns</p>\n",
       "</div>"
      ],
      "text/plain": [
       "   Unnamed: 0         ID  Severity           Start_Time             End_Time  \\\n",
       "0      237351  A-2953957         2  2020-12-03 20:52:00  2020-12-03 22:17:27   \n",
       "1      237362  A-2953968         2  2020-09-25 23:19:55  2020-09-25 23:41:46   \n",
       "2      237365  A-2953971         2  2020-10-15 12:17:30  2020-10-16 03:44:00   \n",
       "3      237402  A-2954008         2  2020-10-03 02:58:56  2020-10-03 04:40:33   \n",
       "4      237423  A-2954030         2  2020-09-17 13:19:55  2020-09-17 15:24:11   \n",
       "\n",
       "   Start_Lat  Start_Lng    End_Lat    End_Lng  Distance.mi.  ... Roundabout  \\\n",
       "0  43.119443 -75.293198  43.120291 -75.293547         0.061  ...      False   \n",
       "1  40.834883 -73.866244  40.833773 -73.863254         0.174  ...      False   \n",
       "2  40.802117 -73.916498  40.804907 -73.911238         0.336  ...      False   \n",
       "3  43.073669 -78.990615  43.075229 -78.990615         0.108  ...      False   \n",
       "4  41.308840 -74.025331  41.307460 -74.027961         0.167  ...      False   \n",
       "\n",
       "   Station   Stop Traffic_Calming Traffic_Signal Turning_Loop Sunrise_Sunset  \\\n",
       "0    False  False           False          False        False          Night   \n",
       "1    False  False           False          False        False          Night   \n",
       "2    False   True           False          False        False            Day   \n",
       "3    False  False           False          False        False          Night   \n",
       "4    False  False           False          False        False            Day   \n",
       "\n",
       "  Civil_Twilight Nautical_Twilight Astronomical_Twilight  \n",
       "0          Night             Night                 Night  \n",
       "1          Night             Night                 Night  \n",
       "2            Day               Day                   Day  \n",
       "3          Night             Night                 Night  \n",
       "4            Day               Day                   Day  \n",
       "\n",
       "[5 rows x 48 columns]"
      ]
     },
     "execution_count": 3,
     "metadata": {},
     "output_type": "execute_result"
    }
   ],
   "source": [
    "accidents_df.head()"
   ]
  },
  {
   "cell_type": "code",
   "execution_count": 4,
   "metadata": {},
   "outputs": [
    {
     "data": {
      "text/plain": [
       "(39537, 48)"
      ]
     },
     "execution_count": 4,
     "metadata": {},
     "output_type": "execute_result"
    }
   ],
   "source": [
    "accidents_df.shape"
   ]
  },
  {
   "cell_type": "code",
   "execution_count": 5,
   "metadata": {},
   "outputs": [
    {
     "data": {
      "text/plain": [
       "Unnamed: 0                   0\n",
       "ID                           0\n",
       "Severity                     0\n",
       "Start_Time                   0\n",
       "End_Time                     0\n",
       "Start_Lat                    0\n",
       "Start_Lng                    0\n",
       "End_Lat                      0\n",
       "End_Lng                      0\n",
       "Distance.mi.                 0\n",
       "Description                  0\n",
       "Number                   27692\n",
       "Street                       0\n",
       "Side                         0\n",
       "City                         8\n",
       "County                       0\n",
       "State                        0\n",
       "Zipcode                      0\n",
       "Country                      0\n",
       "Timezone                     0\n",
       "Airport_Code                66\n",
       "Weather_Timestamp          312\n",
       "Temperature.F.             390\n",
       "Wind_Chill.F.             1463\n",
       "Humidity...                400\n",
       "Pressure.in.               375\n",
       "Visibility.mi.             406\n",
       "Wind_Direction             939\n",
       "Wind_Speed.mph.           1188\n",
       "Precipitation.in.         1943\n",
       "Weather_Condition          343\n",
       "Amenity                      0\n",
       "Bump                         0\n",
       "Crossing                     0\n",
       "Give_Way                     0\n",
       "Junction                     0\n",
       "No_Exit                      0\n",
       "Railway                      0\n",
       "Roundabout                   0\n",
       "Station                      0\n",
       "Stop                         0\n",
       "Traffic_Calming              0\n",
       "Traffic_Signal               0\n",
       "Turning_Loop                 0\n",
       "Sunrise_Sunset               8\n",
       "Civil_Twilight               8\n",
       "Nautical_Twilight            8\n",
       "Astronomical_Twilight        8\n",
       "dtype: int64"
      ]
     },
     "execution_count": 5,
     "metadata": {},
     "output_type": "execute_result"
    }
   ],
   "source": [
    "accidents_df.isnull().sum()"
   ]
  },
  {
   "cell_type": "code",
   "execution_count": 6,
   "metadata": {},
   "outputs": [
    {
     "data": {
      "text/plain": [
       "35557"
      ]
     },
     "execution_count": 6,
     "metadata": {},
     "output_type": "execute_result"
    }
   ],
   "source": [
    "accidents_df.isnull().sum().sum()"
   ]
  },
  {
   "cell_type": "code",
   "execution_count": 7,
   "metadata": {},
   "outputs": [
    {
     "data": {
      "text/plain": [
       "True"
      ]
     },
     "execution_count": 7,
     "metadata": {},
     "output_type": "execute_result"
    }
   ],
   "source": [
    "accidents_df.isnull().values.any()"
   ]
  },
  {
   "cell_type": "code",
   "execution_count": 8,
   "metadata": {},
   "outputs": [
    {
     "name": "stdout",
     "output_type": "stream",
     "text": [
      "<class 'pandas.core.frame.DataFrame'>\n",
      "RangeIndex: 39537 entries, 0 to 39536\n",
      "Data columns (total 48 columns):\n",
      " #   Column                 Non-Null Count  Dtype  \n",
      "---  ------                 --------------  -----  \n",
      " 0   Unnamed: 0             39537 non-null  int64  \n",
      " 1   ID                     39537 non-null  object \n",
      " 2   Severity               39537 non-null  int64  \n",
      " 3   Start_Time             39537 non-null  object \n",
      " 4   End_Time               39537 non-null  object \n",
      " 5   Start_Lat              39537 non-null  float64\n",
      " 6   Start_Lng              39537 non-null  float64\n",
      " 7   End_Lat                39537 non-null  float64\n",
      " 8   End_Lng                39537 non-null  float64\n",
      " 9   Distance.mi.           39537 non-null  float64\n",
      " 10  Description            39537 non-null  object \n",
      " 11  Number                 11845 non-null  float64\n",
      " 12  Street                 39537 non-null  object \n",
      " 13  Side                   39537 non-null  object \n",
      " 14  City                   39529 non-null  object \n",
      " 15  County                 39537 non-null  object \n",
      " 16  State                  39537 non-null  object \n",
      " 17  Zipcode                39537 non-null  object \n",
      " 18  Country                39537 non-null  object \n",
      " 19  Timezone               39537 non-null  object \n",
      " 20  Airport_Code           39471 non-null  object \n",
      " 21  Weather_Timestamp      39225 non-null  object \n",
      " 22  Temperature.F.         39147 non-null  float64\n",
      " 23  Wind_Chill.F.          38074 non-null  float64\n",
      " 24  Humidity...            39137 non-null  float64\n",
      " 25  Pressure.in.           39162 non-null  float64\n",
      " 26  Visibility.mi.         39131 non-null  float64\n",
      " 27  Wind_Direction         38598 non-null  object \n",
      " 28  Wind_Speed.mph.        38349 non-null  float64\n",
      " 29  Precipitation.in.      37594 non-null  float64\n",
      " 30  Weather_Condition      39194 non-null  object \n",
      " 31  Amenity                39537 non-null  bool   \n",
      " 32  Bump                   39537 non-null  bool   \n",
      " 33  Crossing               39537 non-null  bool   \n",
      " 34  Give_Way               39537 non-null  bool   \n",
      " 35  Junction               39537 non-null  bool   \n",
      " 36  No_Exit                39537 non-null  bool   \n",
      " 37  Railway                39537 non-null  bool   \n",
      " 38  Roundabout             39537 non-null  bool   \n",
      " 39  Station                39537 non-null  bool   \n",
      " 40  Stop                   39537 non-null  bool   \n",
      " 41  Traffic_Calming        39537 non-null  bool   \n",
      " 42  Traffic_Signal         39537 non-null  bool   \n",
      " 43  Turning_Loop           39537 non-null  bool   \n",
      " 44  Sunrise_Sunset         39529 non-null  object \n",
      " 45  Civil_Twilight         39529 non-null  object \n",
      " 46  Nautical_Twilight      39529 non-null  object \n",
      " 47  Astronomical_Twilight  39529 non-null  object \n",
      "dtypes: bool(13), float64(13), int64(2), object(20)\n",
      "memory usage: 11.0+ MB\n"
     ]
    }
   ],
   "source": [
    "accidents_df.info()"
   ]
  },
  {
   "cell_type": "markdown",
   "metadata": {},
   "source": [
    "Find out the percentage of Nulls"
   ]
  },
  {
   "cell_type": "code",
   "execution_count": 14,
   "metadata": {},
   "outputs": [
    {
     "data": {
      "text/plain": [
       "Number                   70.040721\n",
       "Precipitation.in.         4.914384\n",
       "Wind_Chill.F.             3.700331\n",
       "Wind_Speed.mph.           3.004780\n",
       "Wind_Direction            2.374991\n",
       "Visibility.mi.            1.026886\n",
       "Humidity...               1.011711\n",
       "Temperature.F.            0.986418\n",
       "Pressure.in.              0.948479\n",
       "Weather_Condition         0.867542\n",
       "Weather_Timestamp         0.789134\n",
       "Airport_Code              0.166932\n",
       "Nautical_Twilight         0.020234\n",
       "Civil_Twilight            0.020234\n",
       "Sunrise_Sunset            0.020234\n",
       "Astronomical_Twilight     0.020234\n",
       "City                      0.020234\n",
       "dtype: float64"
      ]
     },
     "execution_count": 14,
     "metadata": {},
     "output_type": "execute_result"
    }
   ],
   "source": [
    "per_of_missing_val_in_each_col= (accidents_df.isnull().sum().sort_values(ascending=False)/len(accidents_df))*100\n",
    "col_with_missing_val = per_of_missing_val_in_each_col[per_of_missing_val_in_each_col > 0]\n",
    "col_with_missing_val"
   ]
  },
  {
   "cell_type": "code",
   "execution_count": 15,
   "metadata": {},
   "outputs": [
    {
     "data": {
      "text/plain": [
       "<AxesSubplot:>"
      ]
     },
     "execution_count": 15,
     "metadata": {},
     "output_type": "execute_result"
    },
    {
     "data": {
      "image/png": "[encoded data removed]",
      "text/plain": [
       "<Figure size 864x648 with 1 Axes>"
      ]
     },
     "metadata": {
      "needs_background": "light"
     },
     "output_type": "display_data"
    }
   ],
   "source": [
    "plt.figure(figsize= (12, 9))\n",
    "sns.barplot(y = col_with_missing_val.index, x = col_with_missing_val)"
   ]
  },
  {
   "cell_type": "markdown",
   "metadata": {},
   "source": [
    "Drop 'Number' Column"
   ]
  },
  {
   "cell_type": "code",
   "execution_count": 20,
   "metadata": {},
   "outputs": [
    {
     "data": {
      "text/plain": [
       "(39537, 47)"
      ]
     },
     "execution_count": 20,
     "metadata": {},
     "output_type": "execute_result"
    }
   ],
   "source": [
    "accidents_df2 = accidents_df.drop(\"Number\",axis=1)\n",
    "accidents_df2.shape"
   ]
  },
  {
   "cell_type": "code",
   "execution_count": 21,
   "metadata": {},
   "outputs": [
    {
     "data": {
      "text/html": [
       "<div>\n",
       "<style scoped>\n",
       "    .dataframe tbody tr th:only-of-type {\n",
       "        vertical-align: middle;\n",
       "    }\n",
       "\n",
       "    .dataframe tbody tr th {\n",
       "        vertical-align: top;\n",
       "    }\n",
       "\n",
       "    .dataframe thead th {\n",
       "        text-align: right;\n",
       "    }\n",
       "</style>\n",
       "<table border=\"1\" class=\"dataframe\">\n",
       "  <thead>\n",
       "    <tr style=\"text-align: right;\">\n",
       "      <th></th>\n",
       "      <th>Unnamed: 0</th>\n",
       "      <th>Severity</th>\n",
       "      <th>Start_Lat</th>\n",
       "      <th>Start_Lng</th>\n",
       "      <th>End_Lat</th>\n",
       "      <th>End_Lng</th>\n",
       "      <th>Distance.mi.</th>\n",
       "      <th>Temperature.F.</th>\n",
       "      <th>Wind_Chill.F.</th>\n",
       "      <th>Humidity...</th>\n",
       "      <th>Pressure.in.</th>\n",
       "      <th>Visibility.mi.</th>\n",
       "      <th>Wind_Speed.mph.</th>\n",
       "      <th>Precipitation.in.</th>\n",
       "    </tr>\n",
       "  </thead>\n",
       "  <tbody>\n",
       "    <tr>\n",
       "      <th>count</th>\n",
       "      <td>3.953700e+04</td>\n",
       "      <td>39537.000000</td>\n",
       "      <td>39537.000000</td>\n",
       "      <td>39537.000000</td>\n",
       "      <td>39537.000000</td>\n",
       "      <td>39537.000000</td>\n",
       "      <td>39537.000000</td>\n",
       "      <td>39147.000000</td>\n",
       "      <td>38074.000000</td>\n",
       "      <td>39137.000000</td>\n",
       "      <td>39162.000000</td>\n",
       "      <td>39131.000000</td>\n",
       "      <td>38349.000000</td>\n",
       "      <td>37594.000000</td>\n",
       "    </tr>\n",
       "    <tr>\n",
       "      <th>mean</th>\n",
       "      <td>7.543609e+05</td>\n",
       "      <td>2.282900</td>\n",
       "      <td>41.714567</td>\n",
       "      <td>-74.806364</td>\n",
       "      <td>41.715110</td>\n",
       "      <td>-74.806824</td>\n",
       "      <td>0.654307</td>\n",
       "      <td>51.915442</td>\n",
       "      <td>49.177806</td>\n",
       "      <td>65.716253</td>\n",
       "      <td>29.713701</td>\n",
       "      <td>9.040011</td>\n",
       "      <td>9.132535</td>\n",
       "      <td>0.005389</td>\n",
       "    </tr>\n",
       "    <tr>\n",
       "      <th>std</th>\n",
       "      <td>3.307301e+05</td>\n",
       "      <td>0.642619</td>\n",
       "      <td>1.065492</td>\n",
       "      <td>1.685198</td>\n",
       "      <td>1.065188</td>\n",
       "      <td>1.685823</td>\n",
       "      <td>1.551176</td>\n",
       "      <td>16.787521</td>\n",
       "      <td>19.667776</td>\n",
       "      <td>20.599997</td>\n",
       "      <td>0.399174</td>\n",
       "      <td>2.668705</td>\n",
       "      <td>5.870588</td>\n",
       "      <td>0.027952</td>\n",
       "    </tr>\n",
       "    <tr>\n",
       "      <th>min</th>\n",
       "      <td>2.373510e+05</td>\n",
       "      <td>1.000000</td>\n",
       "      <td>40.523980</td>\n",
       "      <td>-79.748951</td>\n",
       "      <td>40.524638</td>\n",
       "      <td>-79.761920</td>\n",
       "      <td>0.000000</td>\n",
       "      <td>-12.000000</td>\n",
       "      <td>-30.400000</td>\n",
       "      <td>13.000000</td>\n",
       "      <td>27.550000</td>\n",
       "      <td>0.000000</td>\n",
       "      <td>0.000000</td>\n",
       "      <td>0.000000</td>\n",
       "    </tr>\n",
       "    <tr>\n",
       "      <th>25%</th>\n",
       "      <td>4.998200e+05</td>\n",
       "      <td>2.000000</td>\n",
       "      <td>40.772600</td>\n",
       "      <td>-76.049410</td>\n",
       "      <td>40.774311</td>\n",
       "      <td>-76.047636</td>\n",
       "      <td>0.000000</td>\n",
       "      <td>39.900000</td>\n",
       "      <td>34.000000</td>\n",
       "      <td>49.000000</td>\n",
       "      <td>29.470000</td>\n",
       "      <td>10.000000</td>\n",
       "      <td>5.000000</td>\n",
       "      <td>0.000000</td>\n",
       "    </tr>\n",
       "    <tr>\n",
       "      <th>50%</th>\n",
       "      <td>7.266940e+05</td>\n",
       "      <td>2.000000</td>\n",
       "      <td>41.065783</td>\n",
       "      <td>-73.929060</td>\n",
       "      <td>41.068520</td>\n",
       "      <td>-73.929030</td>\n",
       "      <td>0.192000</td>\n",
       "      <td>51.000000</td>\n",
       "      <td>51.000000</td>\n",
       "      <td>67.000000</td>\n",
       "      <td>29.740000</td>\n",
       "      <td>10.000000</td>\n",
       "      <td>8.000000</td>\n",
       "      <td>0.000000</td>\n",
       "    </tr>\n",
       "    <tr>\n",
       "      <th>75%</th>\n",
       "      <td>9.178200e+05</td>\n",
       "      <td>2.000000</td>\n",
       "      <td>42.989290</td>\n",
       "      <td>-73.781207</td>\n",
       "      <td>42.987950</td>\n",
       "      <td>-73.781337</td>\n",
       "      <td>0.687000</td>\n",
       "      <td>65.000000</td>\n",
       "      <td>65.000000</td>\n",
       "      <td>84.000000</td>\n",
       "      <td>29.990000</td>\n",
       "      <td>10.000000</td>\n",
       "      <td>13.000000</td>\n",
       "      <td>0.000000</td>\n",
       "    </tr>\n",
       "    <tr>\n",
       "      <th>max</th>\n",
       "      <td>1.515693e+06</td>\n",
       "      <td>4.000000</td>\n",
       "      <td>44.917460</td>\n",
       "      <td>-71.943680</td>\n",
       "      <td>44.981057</td>\n",
       "      <td>-71.943680</td>\n",
       "      <td>49.240000</td>\n",
       "      <td>96.000000</td>\n",
       "      <td>96.000000</td>\n",
       "      <td>100.000000</td>\n",
       "      <td>30.710000</td>\n",
       "      <td>20.000000</td>\n",
       "      <td>40.000000</td>\n",
       "      <td>0.830000</td>\n",
       "    </tr>\n",
       "  </tbody>\n",
       "</table>\n",
       "</div>"
      ],
      "text/plain": [
       "         Unnamed: 0      Severity     Start_Lat     Start_Lng       End_Lat  \\\n",
       "count  3.953700e+04  39537.000000  39537.000000  39537.000000  39537.000000   \n",
       "mean   7.543609e+05      2.282900     41.714567    -74.806364     41.715110   \n",
       "std    3.307301e+05      0.642619      1.065492      1.685198      1.065188   \n",
       "min    2.373510e+05      1.000000     40.523980    -79.748951     40.524638   \n",
       "25%    4.998200e+05      2.000000     40.772600    -76.049410     40.774311   \n",
       "50%    7.266940e+05      2.000000     41.065783    -73.929060     41.068520   \n",
       "75%    9.178200e+05      2.000000     42.989290    -73.781207     42.987950   \n",
       "max    1.515693e+06      4.000000     44.917460    -71.943680     44.981057   \n",
       "\n",
       "            End_Lng  Distance.mi.  Temperature.F.  Wind_Chill.F.  \\\n",
       "count  39537.000000  39537.000000    39147.000000   38074.000000   \n",
       "mean     -74.806824      0.654307       51.915442      49.177806   \n",
       "std        1.685823      1.551176       16.787521      19.667776   \n",
       "min      -79.761920      0.000000      -12.000000     -30.400000   \n",
       "25%      -76.047636      0.000000       39.900000      34.000000   \n",
       "50%      -73.929030      0.192000       51.000000      51.000000   \n",
       "75%      -73.781337      0.687000       65.000000      65.000000   \n",
       "max      -71.943680     49.240000       96.000000      96.000000   \n",
       "\n",
       "        Humidity...  Pressure.in.  Visibility.mi.  Wind_Speed.mph.  \\\n",
       "count  39137.000000  39162.000000    39131.000000     38349.000000   \n",
       "mean      65.716253     29.713701        9.040011         9.132535   \n",
       "std       20.599997      0.399174        2.668705         5.870588   \n",
       "min       13.000000     27.550000        0.000000         0.000000   \n",
       "25%       49.000000     29.470000       10.000000         5.000000   \n",
       "50%       67.000000     29.740000       10.000000         8.000000   \n",
       "75%       84.000000     29.990000       10.000000        13.000000   \n",
       "max      100.000000     30.710000       20.000000        40.000000   \n",
       "\n",
       "       Precipitation.in.  \n",
       "count       37594.000000  \n",
       "mean            0.005389  \n",
       "std             0.027952  \n",
       "min             0.000000  \n",
       "25%             0.000000  \n",
       "50%             0.000000  \n",
       "75%             0.000000  \n",
       "max             0.830000  "
      ]
     },
     "execution_count": 21,
     "metadata": {},
     "output_type": "execute_result"
    }
   ],
   "source": [
    "accidents_df2.describe()"
   ]
  },
  {
   "cell_type": "markdown",
   "metadata": {},
   "source": [
    "Cities and accidents"
   ]
  },
  {
   "cell_type": "code",
   "execution_count": 23,
   "metadata": {},
   "outputs": [
    {
     "data": {
      "text/plain": [
       "Text(0, 0.5, 'No. of Accidents')"
      ]
     },
     "execution_count": 23,
     "metadata": {},
     "output_type": "execute_result"
    },
    {
     "data": {
      "image/png": "[encoded data removed]",
      "text/plain": [
       "<Figure size 864x648 with 1 Axes>"
      ]
     },
     "metadata": {
      "needs_background": "light"
     },
     "output_type": "display_data"
    }
   ],
   "source": [
    "top_cities_df = accidents_df2['City'].value_counts().head(10)\n",
    "plt.figure(figsize=(12,9))\n",
    "sns.barplot(y= top_cities_df.index, x = top_cities_df)\n",
    "plt.title('Cities in US with highest accidents')\n",
    "plt.xlabel('city')\n",
    "plt.ylabel('No. of Accidents')"
   ]
  },
  {
   "cell_type": "code",
   "execution_count": null,
   "metadata": {},
   "outputs": [],
   "source": []
  }
 ],
 "metadata": {
  "kernelspec": {
   "display_name": "Python 3.10.5 64-bit",
   "language": "python",
   "name": "python3"
  },
  "language_info": {
   "codemirror_mode": {
    "name": "ipython",
    "version": 3
   },
   "file_extension": ".py",
   "mimetype": "text/x-python",
   "name": "python",
   "nbconvert_exporter": "python",
   "pygments_lexer": "ipython3",
   "version": "3.10.5"
  },
  "orig_nbformat": 4,
  "vscode": {
   "interpreter": {
    "hash": "fb4569285eef3a3450cb62085a5b1e0da4bce0af555edc33dcf29baf3acc1368"
   }
  }
 },
 "nbformat": 4,
 "nbformat_minor": 2
}
