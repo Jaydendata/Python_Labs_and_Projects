{
 "cells": [
  {
   "cell_type": "markdown",
   "metadata": {},
   "source": [
    "Introduction\n",
    "\n",
    "TBC\n",
    "\n",
    "\n",
    "Import statement"
   ]
  },
  {
   "cell_type": "code",
   "execution_count": 2,
   "metadata": {},
   "outputs": [],
   "source": [
    "import pandas as pd\n",
    "import matplotlib.pyplot as plt\n",
    "import seaborn as sns\n",
    "import plotly.express as px"
   ]
  },
  {
   "cell_type": "code",
   "execution_count": 3,
   "metadata": {},
   "outputs": [],
   "source": [
    "accidents_df = pd.read_csv('ny_accidents.csv')"
   ]
  },
  {
   "cell_type": "markdown",
   "metadata": {},
   "source": [
    "Preview the first rows"
   ]
  },
  {
   "cell_type": "code",
   "execution_count": 4,
   "metadata": {},
   "outputs": [
    {
     "data": {
      "text/html": [
       "<div>\n",
       "<style scoped>\n",
       "    .dataframe tbody tr th:only-of-type {\n",
       "        vertical-align: middle;\n",
       "    }\n",
       "\n",
       "    .dataframe tbody tr th {\n",
       "        vertical-align: top;\n",
       "    }\n",
       "\n",
       "    .dataframe thead th {\n",
       "        text-align: right;\n",
       "    }\n",
       "</style>\n",
       "<table border=\"1\" class=\"dataframe\">\n",
       "  <thead>\n",
       "    <tr style=\"text-align: right;\">\n",
       "      <th></th>\n",
       "      <th>Unnamed: 0</th>\n",
       "      <th>ID</th>\n",
       "      <th>Severity</th>\n",
       "      <th>Start_Time</th>\n",
       "      <th>End_Time</th>\n",
       "      <th>Start_Lat</th>\n",
       "      <th>Start_Lng</th>\n",
       "      <th>End_Lat</th>\n",
       "      <th>End_Lng</th>\n",
       "      <th>Distance.mi.</th>\n",
       "      <th>...</th>\n",
       "      <th>Roundabout</th>\n",
       "      <th>Station</th>\n",
       "      <th>Stop</th>\n",
       "      <th>Traffic_Calming</th>\n",
       "      <th>Traffic_Signal</th>\n",
       "      <th>Turning_Loop</th>\n",
       "      <th>Sunrise_Sunset</th>\n",
       "      <th>Civil_Twilight</th>\n",
       "      <th>Nautical_Twilight</th>\n",
       "      <th>Astronomical_Twilight</th>\n",
       "    </tr>\n",
       "  </thead>\n",
       "  <tbody>\n",
       "    <tr>\n",
       "      <th>0</th>\n",
       "      <td>237351</td>\n",
       "      <td>A-2953957</td>\n",
       "      <td>2</td>\n",
       "      <td>2020-12-03 20:52:00</td>\n",
       "      <td>2020-12-03 22:17:27</td>\n",
       "      <td>43.119443</td>\n",
       "      <td>-75.293198</td>\n",
       "      <td>43.120291</td>\n",
       "      <td>-75.293547</td>\n",
       "      <td>0.061</td>\n",
       "      <td>...</td>\n",
       "      <td>False</td>\n",
       "      <td>False</td>\n",
       "      <td>False</td>\n",
       "      <td>False</td>\n",
       "      <td>False</td>\n",
       "      <td>False</td>\n",
       "      <td>Night</td>\n",
       "      <td>Night</td>\n",
       "      <td>Night</td>\n",
       "      <td>Night</td>\n",
       "    </tr>\n",
       "    <tr>\n",
       "      <th>1</th>\n",
       "      <td>237362</td>\n",
       "      <td>A-2953968</td>\n",
       "      <td>2</td>\n",
       "      <td>2020-09-25 23:19:55</td>\n",
       "      <td>2020-09-25 23:41:46</td>\n",
       "      <td>40.834883</td>\n",
       "      <td>-73.866244</td>\n",
       "      <td>40.833773</td>\n",
       "      <td>-73.863254</td>\n",
       "      <td>0.174</td>\n",
       "      <td>...</td>\n",
       "      <td>False</td>\n",
       "      <td>False</td>\n",
       "      <td>False</td>\n",
       "      <td>False</td>\n",
       "      <td>False</td>\n",
       "      <td>False</td>\n",
       "      <td>Night</td>\n",
       "      <td>Night</td>\n",
       "      <td>Night</td>\n",
       "      <td>Night</td>\n",
       "    </tr>\n",
       "    <tr>\n",
       "      <th>2</th>\n",
       "      <td>237365</td>\n",
       "      <td>A-2953971</td>\n",
       "      <td>2</td>\n",
       "      <td>2020-10-15 12:17:30</td>\n",
       "      <td>2020-10-16 03:44:00</td>\n",
       "      <td>40.802117</td>\n",
       "      <td>-73.916498</td>\n",
       "      <td>40.804907</td>\n",
       "      <td>-73.911238</td>\n",
       "      <td>0.336</td>\n",
       "      <td>...</td>\n",
       "      <td>False</td>\n",
       "      <td>False</td>\n",
       "      <td>True</td>\n",
       "      <td>False</td>\n",
       "      <td>False</td>\n",
       "      <td>False</td>\n",
       "      <td>Day</td>\n",
       "      <td>Day</td>\n",
       "      <td>Day</td>\n",
       "      <td>Day</td>\n",
       "    </tr>\n",
       "    <tr>\n",
       "      <th>3</th>\n",
       "      <td>237402</td>\n",
       "      <td>A-2954008</td>\n",
       "      <td>2</td>\n",
       "      <td>2020-10-03 02:58:56</td>\n",
       "      <td>2020-10-03 04:40:33</td>\n",
       "      <td>43.073669</td>\n",
       "      <td>-78.990615</td>\n",
       "      <td>43.075229</td>\n",
       "      <td>-78.990615</td>\n",
       "      <td>0.108</td>\n",
       "      <td>...</td>\n",
       "      <td>False</td>\n",
       "      <td>False</td>\n",
       "      <td>False</td>\n",
       "      <td>False</td>\n",
       "      <td>False</td>\n",
       "      <td>False</td>\n",
       "      <td>Night</td>\n",
       "      <td>Night</td>\n",
       "      <td>Night</td>\n",
       "      <td>Night</td>\n",
       "    </tr>\n",
       "    <tr>\n",
       "      <th>4</th>\n",
       "      <td>237423</td>\n",
       "      <td>A-2954030</td>\n",
       "      <td>2</td>\n",
       "      <td>2020-09-17 13:19:55</td>\n",
       "      <td>2020-09-17 15:24:11</td>\n",
       "      <td>41.308840</td>\n",
       "      <td>-74.025331</td>\n",
       "      <td>41.307460</td>\n",
       "      <td>-74.027961</td>\n",
       "      <td>0.167</td>\n",
       "      <td>...</td>\n",
       "      <td>False</td>\n",
       "      <td>False</td>\n",
       "      <td>False</td>\n",
       "      <td>False</td>\n",
       "      <td>False</td>\n",
       "      <td>False</td>\n",
       "      <td>Day</td>\n",
       "      <td>Day</td>\n",
       "      <td>Day</td>\n",
       "      <td>Day</td>\n",
       "    </tr>\n",
       "  </tbody>\n",
       "</table>\n",
       "<p>5 rows × 48 columns</p>\n",
       "</div>"
      ],
      "text/plain": [
       "   Unnamed: 0         ID  Severity           Start_Time             End_Time  \\\n",
       "0      237351  A-2953957         2  2020-12-03 20:52:00  2020-12-03 22:17:27   \n",
       "1      237362  A-2953968         2  2020-09-25 23:19:55  2020-09-25 23:41:46   \n",
       "2      237365  A-2953971         2  2020-10-15 12:17:30  2020-10-16 03:44:00   \n",
       "3      237402  A-2954008         2  2020-10-03 02:58:56  2020-10-03 04:40:33   \n",
       "4      237423  A-2954030         2  2020-09-17 13:19:55  2020-09-17 15:24:11   \n",
       "\n",
       "   Start_Lat  Start_Lng    End_Lat    End_Lng  Distance.mi.  ... Roundabout  \\\n",
       "0  43.119443 -75.293198  43.120291 -75.293547         0.061  ...      False   \n",
       "1  40.834883 -73.866244  40.833773 -73.863254         0.174  ...      False   \n",
       "2  40.802117 -73.916498  40.804907 -73.911238         0.336  ...      False   \n",
       "3  43.073669 -78.990615  43.075229 -78.990615         0.108  ...      False   \n",
       "4  41.308840 -74.025331  41.307460 -74.027961         0.167  ...      False   \n",
       "\n",
       "   Station   Stop Traffic_Calming Traffic_Signal Turning_Loop Sunrise_Sunset  \\\n",
       "0    False  False           False          False        False          Night   \n",
       "1    False  False           False          False        False          Night   \n",
       "2    False   True           False          False        False            Day   \n",
       "3    False  False           False          False        False          Night   \n",
       "4    False  False           False          False        False            Day   \n",
       "\n",
       "  Civil_Twilight Nautical_Twilight Astronomical_Twilight  \n",
       "0          Night             Night                 Night  \n",
       "1          Night             Night                 Night  \n",
       "2            Day               Day                   Day  \n",
       "3          Night             Night                 Night  \n",
       "4            Day               Day                   Day  \n",
       "\n",
       "[5 rows x 48 columns]"
      ]
     },
     "execution_count": 4,
     "metadata": {},
     "output_type": "execute_result"
    }
   ],
   "source": [
    "accidents_df.head()"
   ]
  },
  {
   "cell_type": "code",
   "execution_count": 5,
   "metadata": {},
   "outputs": [
    {
     "data": {
      "text/plain": [
       "(39537, 48)"
      ]
     },
     "execution_count": 5,
     "metadata": {},
     "output_type": "execute_result"
    }
   ],
   "source": [
    "accidents_df.shape"
   ]
  },
  {
   "cell_type": "code",
   "execution_count": 10,
   "metadata": {},
   "outputs": [
    {
     "data": {
      "text/plain": [
       "Unnamed: 0                   0\n",
       "ID                           0\n",
       "Severity                     0\n",
       "Start_Time                   0\n",
       "End_Time                     0\n",
       "Start_Lat                    0\n",
       "Start_Lng                    0\n",
       "End_Lat                      0\n",
       "End_Lng                      0\n",
       "Distance.mi.                 0\n",
       "Description                  0\n",
       "Number                   27692\n",
       "Street                       0\n",
       "Side                         0\n",
       "City                         8\n",
       "County                       0\n",
       "State                        0\n",
       "Zipcode                      0\n",
       "Country                      0\n",
       "Timezone                     0\n",
       "Airport_Code                66\n",
       "Weather_Timestamp          312\n",
       "Temperature.F.             390\n",
       "Wind_Chill.F.             1463\n",
       "Humidity...                400\n",
       "Pressure.in.               375\n",
       "Visibility.mi.             406\n",
       "Wind_Direction             939\n",
       "Wind_Speed.mph.           1188\n",
       "Precipitation.in.         1943\n",
       "Weather_Condition          343\n",
       "Amenity                      0\n",
       "Bump                         0\n",
       "Crossing                     0\n",
       "Give_Way                     0\n",
       "Junction                     0\n",
       "No_Exit                      0\n",
       "Railway                      0\n",
       "Roundabout                   0\n",
       "Station                      0\n",
       "Stop                         0\n",
       "Traffic_Calming              0\n",
       "Traffic_Signal               0\n",
       "Turning_Loop                 0\n",
       "Sunrise_Sunset               8\n",
       "Civil_Twilight               8\n",
       "Nautical_Twilight            8\n",
       "Astronomical_Twilight        8\n",
       "dtype: int64"
      ]
     },
     "execution_count": 10,
     "metadata": {},
     "output_type": "execute_result"
    }
   ],
   "source": [
    "accidents_df.isnull().sum()"
   ]
  },
  {
   "cell_type": "code",
   "execution_count": 11,
   "metadata": {},
   "outputs": [
    {
     "data": {
      "text/plain": [
       "35557"
      ]
     },
     "execution_count": 11,
     "metadata": {},
     "output_type": "execute_result"
    }
   ],
   "source": [
    "accidents_df.isnull().sum().sum()"
   ]
  },
  {
   "cell_type": "code",
   "execution_count": 14,
   "metadata": {},
   "outputs": [
    {
     "data": {
      "text/plain": [
       "True"
      ]
     },
     "execution_count": 14,
     "metadata": {},
     "output_type": "execute_result"
    }
   ],
   "source": [
    "accidents_df.isnull().values.any()"
   ]
  },
  {
   "cell_type": "code",
   "execution_count": 6,
   "metadata": {},
   "outputs": [
    {
     "name": "stdout",
     "output_type": "stream",
     "text": [
      "<class 'pandas.core.frame.DataFrame'>\n",
      "RangeIndex: 39537 entries, 0 to 39536\n",
      "Data columns (total 48 columns):\n",
      " #   Column                 Non-Null Count  Dtype  \n",
      "---  ------                 --------------  -----  \n",
      " 0   Unnamed: 0             39537 non-null  int64  \n",
      " 1   ID                     39537 non-null  object \n",
      " 2   Severity               39537 non-null  int64  \n",
      " 3   Start_Time             39537 non-null  object \n",
      " 4   End_Time               39537 non-null  object \n",
      " 5   Start_Lat              39537 non-null  float64\n",
      " 6   Start_Lng              39537 non-null  float64\n",
      " 7   End_Lat                39537 non-null  float64\n",
      " 8   End_Lng                39537 non-null  float64\n",
      " 9   Distance.mi.           39537 non-null  float64\n",
      " 10  Description            39537 non-null  object \n",
      " 11  Number                 11845 non-null  float64\n",
      " 12  Street                 39537 non-null  object \n",
      " 13  Side                   39537 non-null  object \n",
      " 14  City                   39529 non-null  object \n",
      " 15  County                 39537 non-null  object \n",
      " 16  State                  39537 non-null  object \n",
      " 17  Zipcode                39537 non-null  object \n",
      " 18  Country                39537 non-null  object \n",
      " 19  Timezone               39537 non-null  object \n",
      " 20  Airport_Code           39471 non-null  object \n",
      " 21  Weather_Timestamp      39225 non-null  object \n",
      " 22  Temperature.F.         39147 non-null  float64\n",
      " 23  Wind_Chill.F.          38074 non-null  float64\n",
      " 24  Humidity...            39137 non-null  float64\n",
      " 25  Pressure.in.           39162 non-null  float64\n",
      " 26  Visibility.mi.         39131 non-null  float64\n",
      " 27  Wind_Direction         38598 non-null  object \n",
      " 28  Wind_Speed.mph.        38349 non-null  float64\n",
      " 29  Precipitation.in.      37594 non-null  float64\n",
      " 30  Weather_Condition      39194 non-null  object \n",
      " 31  Amenity                39537 non-null  bool   \n",
      " 32  Bump                   39537 non-null  bool   \n",
      " 33  Crossing               39537 non-null  bool   \n",
      " 34  Give_Way               39537 non-null  bool   \n",
      " 35  Junction               39537 non-null  bool   \n",
      " 36  No_Exit                39537 non-null  bool   \n",
      " 37  Railway                39537 non-null  bool   \n",
      " 38  Roundabout             39537 non-null  bool   \n",
      " 39  Station                39537 non-null  bool   \n",
      " 40  Stop                   39537 non-null  bool   \n",
      " 41  Traffic_Calming        39537 non-null  bool   \n",
      " 42  Traffic_Signal         39537 non-null  bool   \n",
      " 43  Turning_Loop           39537 non-null  bool   \n",
      " 44  Sunrise_Sunset         39529 non-null  object \n",
      " 45  Civil_Twilight         39529 non-null  object \n",
      " 46  Nautical_Twilight      39529 non-null  object \n",
      " 47  Astronomical_Twilight  39529 non-null  object \n",
      "dtypes: bool(13), float64(13), int64(2), object(20)\n",
      "memory usage: 11.0+ MB\n"
     ]
    }
   ],
   "source": [
    "accidents_df.info()"
   ]
  },
  {
   "cell_type": "code",
   "execution_count": null,
   "metadata": {},
   "outputs": [],
   "source": []
  },
  {
   "cell_type": "code",
   "execution_count": null,
   "metadata": {},
   "outputs": [],
   "source": []
  },
  {
   "cell_type": "code",
   "execution_count": null,
   "metadata": {},
   "outputs": [],
   "source": []
  },
  {
   "cell_type": "code",
   "execution_count": null,
   "metadata": {},
   "outputs": [],
   "source": []
  },
  {
   "cell_type": "code",
   "execution_count": null,
   "metadata": {},
   "outputs": [],
   "source": []
  },
  {
   "cell_type": "code",
   "execution_count": null,
   "metadata": {},
   "outputs": [],
   "source": []
  }
 ],
 "metadata": {
  "kernelspec": {
   "display_name": "Python 3.10.5 64-bit",
   "language": "python",
   "name": "python3"
  },
  "language_info": {
   "codemirror_mode": {
    "name": "ipython",
    "version": 3
   },
   "file_extension": ".py",
   "mimetype": "text/x-python",
   "name": "python",
   "nbconvert_exporter": "python",
   "pygments_lexer": "ipython3",
   "version": "3.10.5"
  },
  "orig_nbformat": 4,
  "vscode": {
   "interpreter": {
    "hash": "fb4569285eef3a3450cb62085a5b1e0da4bce0af555edc33dcf29baf3acc1368"
   }
  }
 },
 "nbformat": 4,
 "nbformat_minor": 2
}
