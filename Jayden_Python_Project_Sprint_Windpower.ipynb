{
 "cells": [
  {
   "cell_type": "markdown",
   "metadata": {},
   "source": [
    "### Questions set out to answer - Jayden LI\n",
    "    Topic: Operators\n",
    "    Backlog: 010, 014\n",
    "* Owners (operators) of wind turbines in the USA\n",
    "* Wind energy generation per owner\n",
    "* Which other types of power the wind owners already own\n",
    "* Identify potential companies to approach to fund"
   ]
  },
  {
   "cell_type": "markdown",
   "metadata": {},
   "source": [
    "    ## Data Preparation"
   ]
  },
  {
   "cell_type": "code",
   "execution_count": 3,
   "metadata": {
    "vscode": {
     "languageId": "sql"
    }
   },
   "outputs": [
    {
     "ename": "SyntaxError",
     "evalue": "invalid character '‘' (U+2018) (2179632901.py, line 3)",
     "output_type": "error",
     "traceback": [
      "\u001b[1;36m  Input \u001b[1;32mIn [3]\u001b[1;36m\u001b[0m\n\u001b[1;33m    -- Excluded one row with ‘NULL’ in all key cells\u001b[0m\n\u001b[1;37m                             ^\u001b[0m\n\u001b[1;31mSyntaxError\u001b[0m\u001b[1;31m:\u001b[0m invalid character '‘' (U+2018)\n"
     ]
    }
   ],
   "source": [
    "-- SQL Code to extract information of the wind power plants from 'EIA923_Schedules_2_3_4_5_M_12_2020_Final_Revision':\n",
    "-- Excluded 162 rows of ‘State-Fuel Level Increment’(id:99999) with plant_id and operator_id 99999, as it is defined to ‘represents cumulative emissions from facilities that are too small to trigger EIA's specific reporting’\n",
    "-- Excluded 1 row of Null values.\n",
    "\n",
    "SELECT plant_id\n",
    "       ,combined_heat_and_power_plant\n",
    "       ,plant_name\n",
    "       ,operator_name\n",
    "       ,operator_id\n",
    "       ,plant_state\n",
    "       ,reported_prime_mover\n",
    "       ,reported_fuel_type_code\n",
    "       ,total_fuel_consumption_mm_btu\n",
    "       ,net_generation_megawatthours\n",
    "       ,year\n",
    "FROM public.eia923_operators\n",
    "WHERE plant_id != '99999' AND plant_state != 'NULL'\n",
    "\n",
    "-- the file is then exported to 'Operator Data Extracted_V1.08.10.22'"
   ]
  },
  {
   "cell_type": "code",
   "execution_count": 44,
   "metadata": {},
   "outputs": [],
   "source": [
    "# In this step, us python to create two new columns in the csv file\n",
    "## 1. heat_rate by dividing 'total_fuel_consumption_mm_btu' by 'net_generation_megawatthours'\n",
    "## 2. plan_efficiency by dividing 'heat_rate' with the constant 3412 Btu\n",
    "### Reference: https://www.eia.gov/tools/faqs/faq.php?id=107&t=3\n",
    "\n",
    "# First import libary statement\n",
    "\n",
    "import pandas as pd\n",
    "import numpy as np\n",
    "import matplotlib.pyplot as plt\n",
    "from pprint import pprint as pp\n",
    "import seaborn as sns"
   ]
  },
  {
   "cell_type": "code",
   "execution_count": 45,
   "metadata": {},
   "outputs": [
    {
     "name": "stdout",
     "output_type": "stream",
     "text": [
      "<class 'pandas.core.frame.DataFrame'>\n",
      "RangeIndex: 14952 entries, 0 to 14951\n",
      "Data columns (total 11 columns):\n",
      " #   Column                         Non-Null Count  Dtype \n",
      "---  ------                         --------------  ----- \n",
      " 0   plant_id                       14952 non-null  int64 \n",
      " 1   combined_heat_and_power_plant  14952 non-null  object\n",
      " 2   plant_name                     14952 non-null  object\n",
      " 3   operator_name                  14952 non-null  object\n",
      " 4   operator_id                    14952 non-null  int64 \n",
      " 5   plant_state                    14952 non-null  object\n",
      " 6   reported_prime_mover           14952 non-null  object\n",
      " 7   reported_fuel_type_code        14952 non-null  object\n",
      " 8   total_fuel_consumption_mm_btu  14952 non-null  int64 \n",
      " 9   net_generation_megawatthours   14952 non-null  int64 \n",
      " 10  year                           14952 non-null  int64 \n",
      "dtypes: int64(5), object(6)\n",
      "memory usage: 1.3+ MB\n"
     ]
    }
   ],
   "source": [
    "# Check columns in the csv file:\n",
    "# No Null or missing data\n",
    "\n",
    "operatorDf = pd.read_csv('./Operator Data Extracted_V1_08.10.22.csv')\n",
    "operatorDf.info()"
   ]
  },
  {
   "cell_type": "code",
   "execution_count": 46,
   "metadata": {},
   "outputs": [
    {
     "data": {
      "text/html": [
       "<div>\n",
       "<style scoped>\n",
       "    .dataframe tbody tr th:only-of-type {\n",
       "        vertical-align: middle;\n",
       "    }\n",
       "\n",
       "    .dataframe tbody tr th {\n",
       "        vertical-align: top;\n",
       "    }\n",
       "\n",
       "    .dataframe thead th {\n",
       "        text-align: right;\n",
       "    }\n",
       "</style>\n",
       "<table border=\"1\" class=\"dataframe\">\n",
       "  <thead>\n",
       "    <tr style=\"text-align: right;\">\n",
       "      <th></th>\n",
       "      <th>plant_id</th>\n",
       "      <th>combined_heat_and_power_plant</th>\n",
       "      <th>plant_name</th>\n",
       "      <th>operator_name</th>\n",
       "      <th>operator_id</th>\n",
       "      <th>plant_state</th>\n",
       "      <th>reported_prime_mover</th>\n",
       "      <th>reported_fuel_type_code</th>\n",
       "      <th>total_fuel_consumption_mm_btu</th>\n",
       "      <th>net_generation_megawatthours</th>\n",
       "      <th>year</th>\n",
       "      <th>heat_rate</th>\n",
       "    </tr>\n",
       "  </thead>\n",
       "  <tbody>\n",
       "    <tr>\n",
       "      <th>0</th>\n",
       "      <td>1</td>\n",
       "      <td>N</td>\n",
       "      <td>Sand Point</td>\n",
       "      <td>TDX Sand Point Generating, LLC</td>\n",
       "      <td>63560</td>\n",
       "      <td>AK</td>\n",
       "      <td>WT</td>\n",
       "      <td>WND</td>\n",
       "      <td>3045</td>\n",
       "      <td>347</td>\n",
       "      <td>2020</td>\n",
       "      <td>8775.216138</td>\n",
       "    </tr>\n",
       "    <tr>\n",
       "      <th>1</th>\n",
       "      <td>2</td>\n",
       "      <td>N</td>\n",
       "      <td>Bankhead Dam</td>\n",
       "      <td>Alabama Power Co</td>\n",
       "      <td>195</td>\n",
       "      <td>AL</td>\n",
       "      <td>HY</td>\n",
       "      <td>WAT</td>\n",
       "      <td>1220939</td>\n",
       "      <td>139170</td>\n",
       "      <td>2020</td>\n",
       "      <td>8773.004239</td>\n",
       "    </tr>\n",
       "    <tr>\n",
       "      <th>2</th>\n",
       "      <td>3</td>\n",
       "      <td>N</td>\n",
       "      <td>Barry</td>\n",
       "      <td>Alabama Power Co</td>\n",
       "      <td>195</td>\n",
       "      <td>AL</td>\n",
       "      <td>CA</td>\n",
       "      <td>NG</td>\n",
       "      <td>1243854</td>\n",
       "      <td>2633517</td>\n",
       "      <td>2020</td>\n",
       "      <td>472.316678</td>\n",
       "    </tr>\n",
       "    <tr>\n",
       "      <th>3</th>\n",
       "      <td>3</td>\n",
       "      <td>N</td>\n",
       "      <td>Barry</td>\n",
       "      <td>Alabama Power Co</td>\n",
       "      <td>195</td>\n",
       "      <td>AL</td>\n",
       "      <td>CT</td>\n",
       "      <td>NG</td>\n",
       "      <td>53006762</td>\n",
       "      <td>5084350</td>\n",
       "      <td>2020</td>\n",
       "      <td>10425.474643</td>\n",
       "    </tr>\n",
       "    <tr>\n",
       "      <th>4</th>\n",
       "      <td>3</td>\n",
       "      <td>N</td>\n",
       "      <td>Barry</td>\n",
       "      <td>Alabama Power Co</td>\n",
       "      <td>195</td>\n",
       "      <td>AL</td>\n",
       "      <td>ST</td>\n",
       "      <td>BIT</td>\n",
       "      <td>26188716</td>\n",
       "      <td>2625835</td>\n",
       "      <td>2020</td>\n",
       "      <td>9973.481197</td>\n",
       "    </tr>\n",
       "  </tbody>\n",
       "</table>\n",
       "</div>"
      ],
      "text/plain": [
       "   plant_id combined_heat_and_power_plant    plant_name  \\\n",
       "0         1                             N    Sand Point   \n",
       "1         2                             N  Bankhead Dam   \n",
       "2         3                             N         Barry   \n",
       "3         3                             N         Barry   \n",
       "4         3                             N         Barry   \n",
       "\n",
       "                    operator_name  operator_id plant_state  \\\n",
       "0  TDX Sand Point Generating, LLC        63560          AK   \n",
       "1                Alabama Power Co          195          AL   \n",
       "2                Alabama Power Co          195          AL   \n",
       "3                Alabama Power Co          195          AL   \n",
       "4                Alabama Power Co          195          AL   \n",
       "\n",
       "  reported_prime_mover reported_fuel_type_code  total_fuel_consumption_mm_btu  \\\n",
       "0                   WT                     WND                           3045   \n",
       "1                   HY                     WAT                        1220939   \n",
       "2                   CA                      NG                        1243854   \n",
       "3                   CT                      NG                       53006762   \n",
       "4                   ST                     BIT                       26188716   \n",
       "\n",
       "   net_generation_megawatthours  year     heat_rate  \n",
       "0                           347  2020   8775.216138  \n",
       "1                        139170  2020   8773.004239  \n",
       "2                       2633517  2020    472.316678  \n",
       "3                       5084350  2020  10425.474643  \n",
       "4                       2625835  2020   9973.481197  "
      ]
     },
     "execution_count": 46,
     "metadata": {},
     "output_type": "execute_result"
    }
   ],
   "source": [
    "# Calculate heat rate of each plant:\n",
    "\n",
    "operatorDf['heat_rate'] = operatorDf['total_fuel_consumption_mm_btu']/operatorDf['net_generation_megawatthours']*1000\n",
    "operatorDf.head()"
   ]
  },
  {
   "cell_type": "code",
   "execution_count": 47,
   "metadata": {},
   "outputs": [
    {
     "data": {
      "text/html": [
       "<div>\n",
       "<style scoped>\n",
       "    .dataframe tbody tr th:only-of-type {\n",
       "        vertical-align: middle;\n",
       "    }\n",
       "\n",
       "    .dataframe tbody tr th {\n",
       "        vertical-align: top;\n",
       "    }\n",
       "\n",
       "    .dataframe thead th {\n",
       "        text-align: right;\n",
       "    }\n",
       "</style>\n",
       "<table border=\"1\" class=\"dataframe\">\n",
       "  <thead>\n",
       "    <tr style=\"text-align: right;\">\n",
       "      <th></th>\n",
       "      <th>plant_id</th>\n",
       "      <th>combined_heat_and_power_plant</th>\n",
       "      <th>plant_name</th>\n",
       "      <th>operator_name</th>\n",
       "      <th>operator_id</th>\n",
       "      <th>plant_state</th>\n",
       "      <th>reported_prime_mover</th>\n",
       "      <th>reported_fuel_type_code</th>\n",
       "      <th>total_fuel_consumption_mm_btu</th>\n",
       "      <th>net_generation_megawatthours</th>\n",
       "      <th>year</th>\n",
       "      <th>heat_rate</th>\n",
       "      <th>plant_efficiency</th>\n",
       "    </tr>\n",
       "  </thead>\n",
       "  <tbody>\n",
       "    <tr>\n",
       "      <th>0</th>\n",
       "      <td>1</td>\n",
       "      <td>N</td>\n",
       "      <td>Sand Point</td>\n",
       "      <td>TDX Sand Point Generating, LLC</td>\n",
       "      <td>63560</td>\n",
       "      <td>AK</td>\n",
       "      <td>WT</td>\n",
       "      <td>WND</td>\n",
       "      <td>3045</td>\n",
       "      <td>347</td>\n",
       "      <td>2020</td>\n",
       "      <td>8775.216138</td>\n",
       "      <td>0.388822</td>\n",
       "    </tr>\n",
       "    <tr>\n",
       "      <th>1</th>\n",
       "      <td>2</td>\n",
       "      <td>N</td>\n",
       "      <td>Bankhead Dam</td>\n",
       "      <td>Alabama Power Co</td>\n",
       "      <td>195</td>\n",
       "      <td>AL</td>\n",
       "      <td>HY</td>\n",
       "      <td>WAT</td>\n",
       "      <td>1220939</td>\n",
       "      <td>139170</td>\n",
       "      <td>2020</td>\n",
       "      <td>8773.004239</td>\n",
       "      <td>0.388920</td>\n",
       "    </tr>\n",
       "    <tr>\n",
       "      <th>2</th>\n",
       "      <td>3</td>\n",
       "      <td>N</td>\n",
       "      <td>Barry</td>\n",
       "      <td>Alabama Power Co</td>\n",
       "      <td>195</td>\n",
       "      <td>AL</td>\n",
       "      <td>CA</td>\n",
       "      <td>NG</td>\n",
       "      <td>1243854</td>\n",
       "      <td>2633517</td>\n",
       "      <td>2020</td>\n",
       "      <td>472.316678</td>\n",
       "      <td>7.223967</td>\n",
       "    </tr>\n",
       "    <tr>\n",
       "      <th>3</th>\n",
       "      <td>3</td>\n",
       "      <td>N</td>\n",
       "      <td>Barry</td>\n",
       "      <td>Alabama Power Co</td>\n",
       "      <td>195</td>\n",
       "      <td>AL</td>\n",
       "      <td>CT</td>\n",
       "      <td>NG</td>\n",
       "      <td>53006762</td>\n",
       "      <td>5084350</td>\n",
       "      <td>2020</td>\n",
       "      <td>10425.474643</td>\n",
       "      <td>0.327275</td>\n",
       "    </tr>\n",
       "    <tr>\n",
       "      <th>4</th>\n",
       "      <td>3</td>\n",
       "      <td>N</td>\n",
       "      <td>Barry</td>\n",
       "      <td>Alabama Power Co</td>\n",
       "      <td>195</td>\n",
       "      <td>AL</td>\n",
       "      <td>ST</td>\n",
       "      <td>BIT</td>\n",
       "      <td>26188716</td>\n",
       "      <td>2625835</td>\n",
       "      <td>2020</td>\n",
       "      <td>9973.481197</td>\n",
       "      <td>0.342107</td>\n",
       "    </tr>\n",
       "  </tbody>\n",
       "</table>\n",
       "</div>"
      ],
      "text/plain": [
       "   plant_id combined_heat_and_power_plant    plant_name  \\\n",
       "0         1                             N    Sand Point   \n",
       "1         2                             N  Bankhead Dam   \n",
       "2         3                             N         Barry   \n",
       "3         3                             N         Barry   \n",
       "4         3                             N         Barry   \n",
       "\n",
       "                    operator_name  operator_id plant_state  \\\n",
       "0  TDX Sand Point Generating, LLC        63560          AK   \n",
       "1                Alabama Power Co          195          AL   \n",
       "2                Alabama Power Co          195          AL   \n",
       "3                Alabama Power Co          195          AL   \n",
       "4                Alabama Power Co          195          AL   \n",
       "\n",
       "  reported_prime_mover reported_fuel_type_code  total_fuel_consumption_mm_btu  \\\n",
       "0                   WT                     WND                           3045   \n",
       "1                   HY                     WAT                        1220939   \n",
       "2                   CA                      NG                        1243854   \n",
       "3                   CT                      NG                       53006762   \n",
       "4                   ST                     BIT                       26188716   \n",
       "\n",
       "   net_generation_megawatthours  year     heat_rate  plant_efficiency  \n",
       "0                           347  2020   8775.216138          0.388822  \n",
       "1                        139170  2020   8773.004239          0.388920  \n",
       "2                       2633517  2020    472.316678          7.223967  \n",
       "3                       5084350  2020  10425.474643          0.327275  \n",
       "4                       2625835  2020   9973.481197          0.342107  "
      ]
     },
     "execution_count": 47,
     "metadata": {},
     "output_type": "execute_result"
    }
   ],
   "source": [
    "# Creating the column of 'plan_efficiency' - results are quite similar\n",
    "\n",
    "operatorDf['plant_efficiency'] = 3412/operatorDf['heat_rate']\n",
    "operatorDf.head()"
   ]
  },
  {
   "cell_type": "markdown",
   "metadata": {},
   "source": [
    "    ## Data Exploration"
   ]
  },
  {
   "cell_type": "code",
   "execution_count": 48,
   "metadata": {},
   "outputs": [
    {
     "data": {
      "text/plain": [
       "2399854.2599190283"
      ]
     },
     "execution_count": 48,
     "metadata": {},
     "output_type": "execute_result"
    }
   ],
   "source": [
    "# Net electricity generation mean value (wind operator):\n",
    "\n",
    "windOperatorDf = operatorDf[operatorDf['reported_prime_mover'].isin(['WT','WS'])]\n",
    "windOperatorDf.total_fuel_consumption_mm_btu.mean()"
   ]
  },
  {
   "cell_type": "code",
   "execution_count": 49,
   "metadata": {},
   "outputs": [
    {
     "data": {
      "text/plain": [
       "1420867.0"
      ]
     },
     "execution_count": 49,
     "metadata": {},
     "output_type": "execute_result"
    }
   ],
   "source": [
    "# Net electricity generation median value (wind operator):\n",
    "\n",
    "windOperatorDf.total_fuel_consumption_mm_btu.median()\n"
   ]
  },
  {
   "cell_type": "code",
   "execution_count": 50,
   "metadata": {},
   "outputs": [
    {
     "data": {
      "text/plain": [
       "15399    57\n",
       "12341    31\n",
       "57170    31\n",
       "56215    28\n",
       "2770     28\n",
       "         ..\n",
       "56654     1\n",
       "56653     1\n",
       "58150     1\n",
       "56625     1\n",
       "63993     1\n",
       "Name: operator_id, Length: 652, dtype: int64"
      ]
     },
     "execution_count": 50,
     "metadata": {},
     "output_type": "execute_result"
    }
   ],
   "source": [
    "# Number of operators and their plants count\n",
    "\n",
    "windOperatorDf.operator_id.value_counts()"
   ]
  },
  {
   "cell_type": "code",
   "execution_count": 51,
   "metadata": {},
   "outputs": [
    {
     "data": {
      "text/plain": [
       "Avangrid Renewables LLC               57\n",
       "MidAmerican Energy Co                 31\n",
       "EDF Renewable Asset Holdings, Inc.    31\n",
       "RWE Renewables Americas LLC           28\n",
       "Terra-Gen Operating Co-Wind           28\n",
       "                                      ..\n",
       "Carleton College                       1\n",
       "Northern Colorado Wind LLC             1\n",
       "Big Blue Wind Farm LLC (MN)            1\n",
       "Flat Water Wind Farm LLC               1\n",
       "Milligan 1 Wind, LLC                   1\n",
       "Name: operator_name, Length: 652, dtype: int64"
      ]
     },
     "execution_count": 51,
     "metadata": {},
     "output_type": "execute_result"
    }
   ],
   "source": [
    "# Number of operator names and their plants count\n",
    "# Seems like Operator IDs and Names are uniquely matched.\n",
    "\n",
    "windOperatorDf.operator_name.value_counts()"
   ]
  },
  {
   "cell_type": "code",
   "execution_count": 52,
   "metadata": {},
   "outputs": [
    {
     "data": {
      "text/html": [
       "<div>\n",
       "<style scoped>\n",
       "    .dataframe tbody tr th:only-of-type {\n",
       "        vertical-align: middle;\n",
       "    }\n",
       "\n",
       "    .dataframe tbody tr th {\n",
       "        vertical-align: top;\n",
       "    }\n",
       "\n",
       "    .dataframe thead th {\n",
       "        text-align: right;\n",
       "    }\n",
       "</style>\n",
       "<table border=\"1\" class=\"dataframe\">\n",
       "  <thead>\n",
       "    <tr style=\"text-align: right;\">\n",
       "      <th></th>\n",
       "      <th>mean</th>\n",
       "      <th>median</th>\n",
       "      <th>min</th>\n",
       "      <th>max</th>\n",
       "    </tr>\n",
       "    <tr>\n",
       "      <th>operator_name</th>\n",
       "      <th></th>\n",
       "      <th></th>\n",
       "      <th></th>\n",
       "      <th></th>\n",
       "    </tr>\n",
       "  </thead>\n",
       "  <tbody>\n",
       "    <tr>\n",
       "      <th>FPL Energy Horse Hollow LLC</th>\n",
       "      <td>2513457.0</td>\n",
       "      <td>2513457.0</td>\n",
       "      <td>2513457</td>\n",
       "      <td>2513457</td>\n",
       "    </tr>\n",
       "    <tr>\n",
       "      <th>Capricorn Ridge Wind LLC</th>\n",
       "      <td>2259411.0</td>\n",
       "      <td>2259411.0</td>\n",
       "      <td>2259411</td>\n",
       "      <td>2259411</td>\n",
       "    </tr>\n",
       "    <tr>\n",
       "      <th>Hale Wind Energy</th>\n",
       "      <td>2083677.0</td>\n",
       "      <td>2083677.0</td>\n",
       "      <td>2083677</td>\n",
       "      <td>2083677</td>\n",
       "    </tr>\n",
       "    <tr>\n",
       "      <th>Stephens Ranch Wind Energy LLC</th>\n",
       "      <td>1358663.0</td>\n",
       "      <td>1358663.0</td>\n",
       "      <td>1358663</td>\n",
       "      <td>1358663</td>\n",
       "    </tr>\n",
       "    <tr>\n",
       "      <th>Public Service Co of Colorado</th>\n",
       "      <td>1308727.5</td>\n",
       "      <td>1308727.5</td>\n",
       "      <td>593134</td>\n",
       "      <td>2024321</td>\n",
       "    </tr>\n",
       "    <tr>\n",
       "      <th>...</th>\n",
       "      <td>...</td>\n",
       "      <td>...</td>\n",
       "      <td>...</td>\n",
       "      <td>...</td>\n",
       "    </tr>\n",
       "    <tr>\n",
       "      <th>Rock County Energy Center, LLC</th>\n",
       "      <td>0.0</td>\n",
       "      <td>0.0</td>\n",
       "      <td>0</td>\n",
       "      <td>0</td>\n",
       "    </tr>\n",
       "    <tr>\n",
       "      <th>Tennessee Valley Authority</th>\n",
       "      <td>0.0</td>\n",
       "      <td>0.0</td>\n",
       "      <td>0</td>\n",
       "      <td>0</td>\n",
       "    </tr>\n",
       "    <tr>\n",
       "      <th>Ipswich Wind Independence</th>\n",
       "      <td>0.0</td>\n",
       "      <td>0.0</td>\n",
       "      <td>0</td>\n",
       "      <td>0</td>\n",
       "    </tr>\n",
       "    <tr>\n",
       "      <th>Kingston Wind Independence</th>\n",
       "      <td>0.0</td>\n",
       "      <td>0.0</td>\n",
       "      <td>0</td>\n",
       "      <td>0</td>\n",
       "    </tr>\n",
       "    <tr>\n",
       "      <th>Wind Wall 1 LLC</th>\n",
       "      <td>0.0</td>\n",
       "      <td>0.0</td>\n",
       "      <td>0</td>\n",
       "      <td>0</td>\n",
       "    </tr>\n",
       "  </tbody>\n",
       "</table>\n",
       "<p>652 rows × 4 columns</p>\n",
       "</div>"
      ],
      "text/plain": [
       "                                     mean     median      min      max\n",
       "operator_name                                                         \n",
       "FPL Energy Horse Hollow LLC     2513457.0  2513457.0  2513457  2513457\n",
       "Capricorn Ridge Wind LLC        2259411.0  2259411.0  2259411  2259411\n",
       "Hale Wind Energy                2083677.0  2083677.0  2083677  2083677\n",
       "Stephens Ranch Wind Energy LLC  1358663.0  1358663.0  1358663  1358663\n",
       "Public Service Co of Colorado   1308727.5  1308727.5   593134  2024321\n",
       "...                                   ...        ...      ...      ...\n",
       "Rock County Energy Center, LLC        0.0        0.0        0        0\n",
       "Tennessee Valley Authority            0.0        0.0        0        0\n",
       "Ipswich Wind Independence             0.0        0.0        0        0\n",
       "Kingston Wind Independence            0.0        0.0        0        0\n",
       "Wind Wall 1 LLC                       0.0        0.0        0        0\n",
       "\n",
       "[652 rows x 4 columns]"
      ]
     },
     "execution_count": 52,
     "metadata": {},
     "output_type": "execute_result"
    }
   ],
   "source": [
    "# Operators of wind turbines and their total electricity generated\n",
    "\n",
    "windOperatorDf.groupby('operator_name')['net_generation_megawatthours'].agg(['mean', 'median', 'min', 'max']).sort_values(by = 'mean', ascending= False)"
   ]
  },
  {
   "cell_type": "code",
   "execution_count": 53,
   "metadata": {},
   "outputs": [
    {
     "data": {
      "text/plain": [
       "plant_state\n",
       "TX    190\n",
       "MN    128\n",
       "CA    114\n",
       "IA    112\n",
       "OK     57\n",
       "OR     47\n",
       "IL     46\n",
       "KS     41\n",
       "ND     40\n",
       "ID     32\n",
       "NE     31\n",
       "CO     29\n",
       "MI     28\n",
       "NY     27\n",
       "WY     27\n",
       "PA     26\n",
       "WA     23\n",
       "MA     23\n",
       "NM     23\n",
       "OH     21\n",
       "SD     20\n",
       "ME     18\n",
       "IN     18\n",
       "MT     17\n",
       "RI     17\n",
       "MO     12\n",
       "WI     12\n",
       "HI      8\n",
       "WV      7\n",
       "AK      7\n",
       "AZ      6\n",
       "MD      5\n",
       "NH      5\n",
       "UT      5\n",
       "VT      5\n",
       "NJ      2\n",
       "TN      2\n",
       "DE      1\n",
       "NV      1\n",
       "CT      1\n",
       "NC      1\n",
       "Name: operator_id, dtype: int64"
      ]
     },
     "execution_count": 53,
     "metadata": {},
     "output_type": "execute_result"
    }
   ],
   "source": [
    "# Number of wind operators in each state\n",
    "\n",
    "windOperatorDf.groupby('plant_state')['operator_id'].count().sort_values(ascending= False)"
   ]
  },
  {
   "cell_type": "code",
   "execution_count": 54,
   "metadata": {},
   "outputs": [
    {
     "data": {
      "text/plain": [
       "operator_name                      reported_prime_mover\n",
       "126 Grove Solar LLC                PV                       1\n",
       "13 Mile Solar, LLC                 PV                       1\n",
       "158th Fighter Wing                 PV                       1\n",
       "180 Raritan Energy Solutions, LLC  PV                       1\n",
       "2016 ESA Project Company, LLC      FC                      31\n",
       "                                                           ..\n",
       "Zion Energy LLC                    GT                       2\n",
       "Zotos International                WT                       1\n",
       "Zumbro Garden LLC                  PV                       1\n",
       "Zumbro Solar LLC                   PV                       1\n",
       "esVolta LP                         BA                       1\n",
       "Name: reported_prime_mover, Length: 6274, dtype: int64"
      ]
     },
     "execution_count": 54,
     "metadata": {},
     "output_type": "execute_result"
    }
   ],
   "source": [
    "# Operators and their plant types - grouped by operators\n",
    "\n",
    "operatorDf.groupby('operator_name')['reported_prime_mover'].value_counts()"
   ]
  },
  {
   "cell_type": "code",
   "execution_count": 55,
   "metadata": {},
   "outputs": [],
   "source": [
    "# Further analysis will be done in excel and tableau\n",
    "# Export dataframe back to csv and share with teammembers\n",
    "## further exploration in Tableau\n",
    "\n",
    "operatorDf.to_csv('Operator Data Extracted_V1_08.10.22.csv', index= False)"
   ]
  }
 ],
 "metadata": {
  "kernelspec": {
   "display_name": "Python 3.10.5 64-bit",
   "language": "python",
   "name": "python3"
  },
  "language_info": {
   "codemirror_mode": {
    "name": "ipython",
    "version": 3
   },
   "file_extension": ".py",
   "mimetype": "text/x-python",
   "name": "python",
   "nbconvert_exporter": "python",
   "pygments_lexer": "ipython3",
   "version": "3.10.5"
  },
  "orig_nbformat": 4,
  "vscode": {
   "interpreter": {
    "hash": "fb4569285eef3a3450cb62085a5b1e0da4bce0af555edc33dcf29baf3acc1368"
   }
  }
 },
 "nbformat": 4,
 "nbformat_minor": 2
}
